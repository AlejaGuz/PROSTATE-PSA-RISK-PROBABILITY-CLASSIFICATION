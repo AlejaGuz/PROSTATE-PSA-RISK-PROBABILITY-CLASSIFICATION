{
 "cells": [
  {
   "cell_type": "code",
   "execution_count": 1,
   "id": "1c69643a",
   "metadata": {
    "_cell_guid": "b1076dfc-b9ad-4769-8c92-a6c4dae69d19",
    "_uuid": "8f2839f25d086af736a60e9eeb907d3b93b6e0e5",
    "execution": {
     "iopub.execute_input": "2024-09-18T22:12:28.414494Z",
     "iopub.status.busy": "2024-09-18T22:12:28.414140Z",
     "iopub.status.idle": "2024-09-18T22:12:30.407945Z",
     "shell.execute_reply": "2024-09-18T22:12:30.406972Z"
    },
    "papermill": {
     "duration": 2.012207,
     "end_time": "2024-09-18T22:12:30.410279",
     "exception": false,
     "start_time": "2024-09-18T22:12:28.398072",
     "status": "completed"
    },
    "tags": []
   },
   "outputs": [
    {
     "name": "stdout",
     "output_type": "stream",
     "text": [
      "/kaggle/input/fa-ii-2024-ii-flujos-de-modelos-tradicionales/sample_submission.csv\n",
      "/kaggle/input/fa-ii-2024-ii-flujos-de-modelos-tradicionales/Diccionario.xlsx\n",
      "/kaggle/input/fa-ii-2024-ii-flujos-de-modelos-tradicionales/df_test.parquet\n",
      "/kaggle/input/fa-ii-2024-ii-flujos-de-modelos-tradicionales/df_train.parquet\n"
     ]
    }
   ],
   "source": [
    "# This Python 3 environment comes with many helpful analytics libraries installed\n",
    "# It is defined by the kaggle/python Docker image: https://github.com/kaggle/docker-python\n",
    "# For example, here's several helpful packages to load\n",
    "import pickle\n",
    "\n",
    "import numpy as np # linear algebra\n",
    "import pandas as pd # data processing, CSV file I/O (e.g. pd.read_csv)\n",
    "import pandas as pd\n",
    "import os.path as osp \n",
    "import os\n",
    "from sklearn.model_selection import train_test_split\n",
    "from sklearn.pipeline import Pipeline\n",
    "from sklearn.preprocessing import (\n",
    "    StandardScaler, MinMaxScaler, OneHotEncoder\n",
    ")\n",
    "from sklearn.impute import SimpleImputer\n",
    "from sklearn.compose import ColumnTransformer\n",
    "from sklearn.svm import SVC\n",
    "from sklearn.linear_model import LogisticRegression\n",
    "from sklearn.discriminant_analysis import LinearDiscriminantAnalysis #LDA\n",
    "from sklearn.decomposition import PCA\n",
    "from sklearn.feature_selection import SelectFromModel #para seleccionar los coeficientes de lasso\n",
    "from sklearn.metrics import roc_auc_score, f1_score\n",
    "from sklearn import set_config\n",
    "from sklearn.base import BaseEstimator, TransformerMixin\n",
    "set_config(display=\"diagram\")\n",
    "\n",
    "from sklearn.impute import KNNImputer\n",
    "from sklearn.preprocessing import MinMaxScaler\n",
    "from sklearn.model_selection import KFold\n",
    "from sklearn.neural_network import MLPClassifier\n",
    "from bayes_opt import BayesianOptimization\n",
    "from bayes_opt.logger import JSONLogger\n",
    "from bayes_opt.event import Events\n",
    "\n",
    "import matplotlib.pyplot as plt\n",
    "# Input data files are available in the read-only \"../input/\" directory\n",
    "# For example, running this (by clicking run or pressing Shift+Enter) will list all files under the input directory\n",
    "\n",
    "for dirname, _, filenames in os.walk('/kaggle/input'):\n",
    "    for filename in filenames:\n",
    "        print(os.path.join(dirname, filename))\n",
    "\n",
    "# You can write up to 20GB to the current directory (/kaggle/working/) that gets preserved as output when you create a version using \"Save & Run All\" \n",
    "# You can also write temporary files to /kaggle/temp/, but they won't be saved outside of the current session"
   ]
  },
  {
   "cell_type": "code",
   "execution_count": 2,
   "id": "9a058567",
   "metadata": {
    "execution": {
     "iopub.execute_input": "2024-09-18T22:12:30.439482Z",
     "iopub.status.busy": "2024-09-18T22:12:30.439034Z",
     "iopub.status.idle": "2024-09-18T22:12:30.715910Z",
     "shell.execute_reply": "2024-09-18T22:12:30.714958Z"
    },
    "papermill": {
     "duration": 0.294302,
     "end_time": "2024-09-18T22:12:30.718540",
     "exception": false,
     "start_time": "2024-09-18T22:12:30.424238",
     "status": "completed"
    },
    "tags": []
   },
   "outputs": [
    {
     "name": "stdout",
     "output_type": "stream",
     "text": [
      "(23494, 46)\n"
     ]
    },
    {
     "data": {
      "text/html": [
       "<div>\n",
       "<style scoped>\n",
       "    .dataframe tbody tr th:only-of-type {\n",
       "        vertical-align: middle;\n",
       "    }\n",
       "\n",
       "    .dataframe tbody tr th {\n",
       "        vertical-align: top;\n",
       "    }\n",
       "\n",
       "    .dataframe thead th {\n",
       "        text-align: right;\n",
       "    }\n",
       "</style>\n",
       "<table border=\"1\" class=\"dataframe\">\n",
       "  <thead>\n",
       "    <tr style=\"text-align: right;\">\n",
       "      <th></th>\n",
       "      <th>MEDICAMENTOS</th>\n",
       "      <th>MEDICINA ESPECIALIZADA</th>\n",
       "      <th>MEDICINA GENERAL</th>\n",
       "      <th>Cant_gr_flia</th>\n",
       "      <th>Cant_riesgos_flia_mean</th>\n",
       "      <th>min_Tiempo_CP_Fliar</th>\n",
       "      <th>Cant_Fliar_CP</th>\n",
       "      <th>psa_max_gr_flia</th>\n",
       "      <th>psa_min_gr_flia</th>\n",
       "      <th>Cant_Fliar_riesgos</th>\n",
       "      <th>...</th>\n",
       "      <th>CORONARIOS_FAMILIAR</th>\n",
       "      <th>CEREBRAL</th>\n",
       "      <th>CEREBRAL_FAMILIAR</th>\n",
       "      <th>ENFERMEDAD_RENAL</th>\n",
       "      <th>ENFERMEDAD_RENAL_FAMILIAR</th>\n",
       "      <th>OTROS_ANTECEDENTES_VASCULARES</th>\n",
       "      <th>Target</th>\n",
       "      <th>Pendiente</th>\n",
       "      <th>Intercepto</th>\n",
       "      <th>Promedio_costo</th>\n",
       "    </tr>\n",
       "    <tr>\n",
       "      <th>ID</th>\n",
       "      <th></th>\n",
       "      <th></th>\n",
       "      <th></th>\n",
       "      <th></th>\n",
       "      <th></th>\n",
       "      <th></th>\n",
       "      <th></th>\n",
       "      <th></th>\n",
       "      <th></th>\n",
       "      <th></th>\n",
       "      <th></th>\n",
       "      <th></th>\n",
       "      <th></th>\n",
       "      <th></th>\n",
       "      <th></th>\n",
       "      <th></th>\n",
       "      <th></th>\n",
       "      <th></th>\n",
       "      <th></th>\n",
       "      <th></th>\n",
       "      <th></th>\n",
       "    </tr>\n",
       "  </thead>\n",
       "  <tbody>\n",
       "    <tr>\n",
       "      <th>16484</th>\n",
       "      <td>12.0</td>\n",
       "      <td>3.0</td>\n",
       "      <td>3.0</td>\n",
       "      <td>2</td>\n",
       "      <td>0.0</td>\n",
       "      <td>NaN</td>\n",
       "      <td>0.0</td>\n",
       "      <td>NaN</td>\n",
       "      <td>NaN</td>\n",
       "      <td>0.0</td>\n",
       "      <td>...</td>\n",
       "      <td>0</td>\n",
       "      <td>0</td>\n",
       "      <td>0</td>\n",
       "      <td>0</td>\n",
       "      <td>0</td>\n",
       "      <td>0</td>\n",
       "      <td>0</td>\n",
       "      <td>58373.057143</td>\n",
       "      <td>-110021.200000</td>\n",
       "      <td>1.885690e+05</td>\n",
       "    </tr>\n",
       "    <tr>\n",
       "      <th>11528</th>\n",
       "      <td>6.0</td>\n",
       "      <td>1.0</td>\n",
       "      <td>1.0</td>\n",
       "      <td>2</td>\n",
       "      <td>0.5</td>\n",
       "      <td>NaN</td>\n",
       "      <td>0.0</td>\n",
       "      <td>NaN</td>\n",
       "      <td>NaN</td>\n",
       "      <td>1.0</td>\n",
       "      <td>...</td>\n",
       "      <td>0</td>\n",
       "      <td>0</td>\n",
       "      <td>0</td>\n",
       "      <td>0</td>\n",
       "      <td>0</td>\n",
       "      <td>0</td>\n",
       "      <td>0</td>\n",
       "      <td>19618.942857</td>\n",
       "      <td>-36176.133333</td>\n",
       "      <td>9.747050e+04</td>\n",
       "    </tr>\n",
       "    <tr>\n",
       "      <th>26630</th>\n",
       "      <td>1.0</td>\n",
       "      <td>0.0</td>\n",
       "      <td>2.0</td>\n",
       "      <td>2</td>\n",
       "      <td>0.0</td>\n",
       "      <td>NaN</td>\n",
       "      <td>0.0</td>\n",
       "      <td>NaN</td>\n",
       "      <td>NaN</td>\n",
       "      <td>0.0</td>\n",
       "      <td>...</td>\n",
       "      <td>0</td>\n",
       "      <td>0</td>\n",
       "      <td>0</td>\n",
       "      <td>0</td>\n",
       "      <td>0</td>\n",
       "      <td>0</td>\n",
       "      <td>1</td>\n",
       "      <td>398534.000000</td>\n",
       "      <td>-626628.000000</td>\n",
       "      <td>2.304723e+06</td>\n",
       "    </tr>\n",
       "    <tr>\n",
       "      <th>12586</th>\n",
       "      <td>6.0</td>\n",
       "      <td>0.0</td>\n",
       "      <td>2.0</td>\n",
       "      <td>2</td>\n",
       "      <td>0.0</td>\n",
       "      <td>NaN</td>\n",
       "      <td>0.0</td>\n",
       "      <td>NaN</td>\n",
       "      <td>NaN</td>\n",
       "      <td>0.0</td>\n",
       "      <td>...</td>\n",
       "      <td>0</td>\n",
       "      <td>0</td>\n",
       "      <td>0</td>\n",
       "      <td>0</td>\n",
       "      <td>0</td>\n",
       "      <td>0</td>\n",
       "      <td>0</td>\n",
       "      <td>1292.600000</td>\n",
       "      <td>13410.733333</td>\n",
       "      <td>5.380450e+04</td>\n",
       "    </tr>\n",
       "    <tr>\n",
       "      <th>11225</th>\n",
       "      <td>3.0</td>\n",
       "      <td>0.0</td>\n",
       "      <td>2.0</td>\n",
       "      <td>1</td>\n",
       "      <td>1.0</td>\n",
       "      <td>NaN</td>\n",
       "      <td>0.0</td>\n",
       "      <td>NaN</td>\n",
       "      <td>NaN</td>\n",
       "      <td>1.0</td>\n",
       "      <td>...</td>\n",
       "      <td>2</td>\n",
       "      <td>2</td>\n",
       "      <td>2</td>\n",
       "      <td>2</td>\n",
       "      <td>2</td>\n",
       "      <td>2</td>\n",
       "      <td>0</td>\n",
       "      <td>13728.714286</td>\n",
       "      <td>-27375.666667</td>\n",
       "      <td>4.134967e+04</td>\n",
       "    </tr>\n",
       "  </tbody>\n",
       "</table>\n",
       "<p>5 rows × 46 columns</p>\n",
       "</div>"
      ],
      "text/plain": [
       "       MEDICAMENTOS  MEDICINA ESPECIALIZADA  MEDICINA GENERAL  Cant_gr_flia  \\\n",
       "ID                                                                            \n",
       "16484          12.0                     3.0               3.0             2   \n",
       "11528           6.0                     1.0               1.0             2   \n",
       "26630           1.0                     0.0               2.0             2   \n",
       "12586           6.0                     0.0               2.0             2   \n",
       "11225           3.0                     0.0               2.0             1   \n",
       "\n",
       "       Cant_riesgos_flia_mean  min_Tiempo_CP_Fliar  Cant_Fliar_CP  \\\n",
       "ID                                                                  \n",
       "16484                     0.0                  NaN            0.0   \n",
       "11528                     0.5                  NaN            0.0   \n",
       "26630                     0.0                  NaN            0.0   \n",
       "12586                     0.0                  NaN            0.0   \n",
       "11225                     1.0                  NaN            0.0   \n",
       "\n",
       "       psa_max_gr_flia  psa_min_gr_flia  Cant_Fliar_riesgos  ...  \\\n",
       "ID                                                           ...   \n",
       "16484              NaN              NaN                 0.0  ...   \n",
       "11528              NaN              NaN                 1.0  ...   \n",
       "26630              NaN              NaN                 0.0  ...   \n",
       "12586              NaN              NaN                 0.0  ...   \n",
       "11225              NaN              NaN                 1.0  ...   \n",
       "\n",
       "       CORONARIOS_FAMILIAR  CEREBRAL  CEREBRAL_FAMILIAR  ENFERMEDAD_RENAL  \\\n",
       "ID                                                                          \n",
       "16484                    0         0                  0                 0   \n",
       "11528                    0         0                  0                 0   \n",
       "26630                    0         0                  0                 0   \n",
       "12586                    0         0                  0                 0   \n",
       "11225                    2         2                  2                 2   \n",
       "\n",
       "      ENFERMEDAD_RENAL_FAMILIAR OTROS_ANTECEDENTES_VASCULARES Target  \\\n",
       "ID                                                                     \n",
       "16484                         0                             0      0   \n",
       "11528                         0                             0      0   \n",
       "26630                         0                             0      1   \n",
       "12586                         0                             0      0   \n",
       "11225                         2                             2      0   \n",
       "\n",
       "           Pendiente     Intercepto Promedio_costo  \n",
       "ID                                                  \n",
       "16484   58373.057143 -110021.200000   1.885690e+05  \n",
       "11528   19618.942857  -36176.133333   9.747050e+04  \n",
       "26630  398534.000000 -626628.000000   2.304723e+06  \n",
       "12586    1292.600000   13410.733333   5.380450e+04  \n",
       "11225   13728.714286  -27375.666667   4.134967e+04  \n",
       "\n",
       "[5 rows x 46 columns]"
      ]
     },
     "execution_count": 2,
     "metadata": {},
     "output_type": "execute_result"
    }
   ],
   "source": [
    "DATA_DIR = \"/kaggle/input/fa-ii-2024-ii-flujos-de-modelos-tradicionales/\"\n",
    "df = pd.read_parquet(osp.join(DATA_DIR, \"df_train.parquet\"))\n",
    "print(df.shape)\n",
    "df.head()"
   ]
  },
  {
   "cell_type": "code",
   "execution_count": 3,
   "id": "cfe7255d",
   "metadata": {
    "execution": {
     "iopub.execute_input": "2024-09-18T22:12:30.750941Z",
     "iopub.status.busy": "2024-09-18T22:12:30.750642Z",
     "iopub.status.idle": "2024-09-18T22:12:30.816388Z",
     "shell.execute_reply": "2024-09-18T22:12:30.815512Z"
    },
    "papermill": {
     "duration": 0.08406,
     "end_time": "2024-09-18T22:12:30.818660",
     "exception": false,
     "start_time": "2024-09-18T22:12:30.734600",
     "status": "completed"
    },
    "tags": []
   },
   "outputs": [
    {
     "name": "stdout",
     "output_type": "stream",
     "text": [
      "(10069, 45)\n"
     ]
    },
    {
     "data": {
      "text/html": [
       "<div>\n",
       "<style scoped>\n",
       "    .dataframe tbody tr th:only-of-type {\n",
       "        vertical-align: middle;\n",
       "    }\n",
       "\n",
       "    .dataframe tbody tr th {\n",
       "        vertical-align: top;\n",
       "    }\n",
       "\n",
       "    .dataframe thead th {\n",
       "        text-align: right;\n",
       "    }\n",
       "</style>\n",
       "<table border=\"1\" class=\"dataframe\">\n",
       "  <thead>\n",
       "    <tr style=\"text-align: right;\">\n",
       "      <th></th>\n",
       "      <th>MEDICAMENTOS</th>\n",
       "      <th>MEDICINA ESPECIALIZADA</th>\n",
       "      <th>MEDICINA GENERAL</th>\n",
       "      <th>Cant_gr_flia</th>\n",
       "      <th>Cant_riesgos_flia_mean</th>\n",
       "      <th>min_Tiempo_CP_Fliar</th>\n",
       "      <th>Cant_Fliar_CP</th>\n",
       "      <th>psa_max_gr_flia</th>\n",
       "      <th>psa_min_gr_flia</th>\n",
       "      <th>Cant_Fliar_riesgos</th>\n",
       "      <th>...</th>\n",
       "      <th>CORONARIOS</th>\n",
       "      <th>CORONARIOS_FAMILIAR</th>\n",
       "      <th>CEREBRAL</th>\n",
       "      <th>CEREBRAL_FAMILIAR</th>\n",
       "      <th>ENFERMEDAD_RENAL</th>\n",
       "      <th>ENFERMEDAD_RENAL_FAMILIAR</th>\n",
       "      <th>OTROS_ANTECEDENTES_VASCULARES</th>\n",
       "      <th>Pendiente</th>\n",
       "      <th>Intercepto</th>\n",
       "      <th>Promedio_costo</th>\n",
       "    </tr>\n",
       "    <tr>\n",
       "      <th>ID</th>\n",
       "      <th></th>\n",
       "      <th></th>\n",
       "      <th></th>\n",
       "      <th></th>\n",
       "      <th></th>\n",
       "      <th></th>\n",
       "      <th></th>\n",
       "      <th></th>\n",
       "      <th></th>\n",
       "      <th></th>\n",
       "      <th></th>\n",
       "      <th></th>\n",
       "      <th></th>\n",
       "      <th></th>\n",
       "      <th></th>\n",
       "      <th></th>\n",
       "      <th></th>\n",
       "      <th></th>\n",
       "      <th></th>\n",
       "      <th></th>\n",
       "      <th></th>\n",
       "    </tr>\n",
       "  </thead>\n",
       "  <tbody>\n",
       "    <tr>\n",
       "      <th>12596</th>\n",
       "      <td>2.0</td>\n",
       "      <td>4.0</td>\n",
       "      <td>2.0</td>\n",
       "      <td>2</td>\n",
       "      <td>0.000000</td>\n",
       "      <td>NaN</td>\n",
       "      <td>0.0</td>\n",
       "      <td>NaN</td>\n",
       "      <td>NaN</td>\n",
       "      <td>0.0</td>\n",
       "      <td>...</td>\n",
       "      <td>0</td>\n",
       "      <td>0</td>\n",
       "      <td>0</td>\n",
       "      <td>0</td>\n",
       "      <td>0</td>\n",
       "      <td>0</td>\n",
       "      <td>0</td>\n",
       "      <td>5.421180e+06</td>\n",
       "      <td>-1.256617e+07</td>\n",
       "      <td>9.611937e+06</td>\n",
       "    </tr>\n",
       "    <tr>\n",
       "      <th>29326</th>\n",
       "      <td>4.0</td>\n",
       "      <td>0.0</td>\n",
       "      <td>1.0</td>\n",
       "      <td>1</td>\n",
       "      <td>0.000000</td>\n",
       "      <td>NaN</td>\n",
       "      <td>0.0</td>\n",
       "      <td>NaN</td>\n",
       "      <td>NaN</td>\n",
       "      <td>0.0</td>\n",
       "      <td>...</td>\n",
       "      <td>0</td>\n",
       "      <td>0</td>\n",
       "      <td>0</td>\n",
       "      <td>0</td>\n",
       "      <td>0</td>\n",
       "      <td>0</td>\n",
       "      <td>0</td>\n",
       "      <td>-9.504343e+03</td>\n",
       "      <td>5.997787e+04</td>\n",
       "      <td>8.013800e+04</td>\n",
       "    </tr>\n",
       "    <tr>\n",
       "      <th>24338</th>\n",
       "      <td>0.0</td>\n",
       "      <td>0.0</td>\n",
       "      <td>1.0</td>\n",
       "      <td>2</td>\n",
       "      <td>0.000000</td>\n",
       "      <td>NaN</td>\n",
       "      <td>0.0</td>\n",
       "      <td>NaN</td>\n",
       "      <td>NaN</td>\n",
       "      <td>0.0</td>\n",
       "      <td>...</td>\n",
       "      <td>0</td>\n",
       "      <td>0</td>\n",
       "      <td>0</td>\n",
       "      <td>0</td>\n",
       "      <td>0</td>\n",
       "      <td>0</td>\n",
       "      <td>0</td>\n",
       "      <td>2.477143e+03</td>\n",
       "      <td>-5.780000e+03</td>\n",
       "      <td>1.734000e+04</td>\n",
       "    </tr>\n",
       "    <tr>\n",
       "      <th>11167</th>\n",
       "      <td>1.0</td>\n",
       "      <td>0.0</td>\n",
       "      <td>0.0</td>\n",
       "      <td>1</td>\n",
       "      <td>0.000000</td>\n",
       "      <td>NaN</td>\n",
       "      <td>0.0</td>\n",
       "      <td>NaN</td>\n",
       "      <td>NaN</td>\n",
       "      <td>0.0</td>\n",
       "      <td>...</td>\n",
       "      <td>1</td>\n",
       "      <td>0</td>\n",
       "      <td>1</td>\n",
       "      <td>0</td>\n",
       "      <td>1</td>\n",
       "      <td>0</td>\n",
       "      <td>0</td>\n",
       "      <td>3.597143e+03</td>\n",
       "      <td>-8.393333e+03</td>\n",
       "      <td>2.518000e+04</td>\n",
       "    </tr>\n",
       "    <tr>\n",
       "      <th>22074</th>\n",
       "      <td>36.0</td>\n",
       "      <td>0.0</td>\n",
       "      <td>1.0</td>\n",
       "      <td>3</td>\n",
       "      <td>0.666667</td>\n",
       "      <td>NaN</td>\n",
       "      <td>0.0</td>\n",
       "      <td>NaN</td>\n",
       "      <td>NaN</td>\n",
       "      <td>1.0</td>\n",
       "      <td>...</td>\n",
       "      <td>0</td>\n",
       "      <td>0</td>\n",
       "      <td>0</td>\n",
       "      <td>0</td>\n",
       "      <td>0</td>\n",
       "      <td>0</td>\n",
       "      <td>0</td>\n",
       "      <td>-9.042514e+03</td>\n",
       "      <td>6.309881e+05</td>\n",
       "      <td>5.993393e+05</td>\n",
       "    </tr>\n",
       "  </tbody>\n",
       "</table>\n",
       "<p>5 rows × 45 columns</p>\n",
       "</div>"
      ],
      "text/plain": [
       "       MEDICAMENTOS  MEDICINA ESPECIALIZADA  MEDICINA GENERAL  Cant_gr_flia  \\\n",
       "ID                                                                            \n",
       "12596           2.0                     4.0               2.0             2   \n",
       "29326           4.0                     0.0               1.0             1   \n",
       "24338           0.0                     0.0               1.0             2   \n",
       "11167           1.0                     0.0               0.0             1   \n",
       "22074          36.0                     0.0               1.0             3   \n",
       "\n",
       "       Cant_riesgos_flia_mean  min_Tiempo_CP_Fliar  Cant_Fliar_CP  \\\n",
       "ID                                                                  \n",
       "12596                0.000000                  NaN            0.0   \n",
       "29326                0.000000                  NaN            0.0   \n",
       "24338                0.000000                  NaN            0.0   \n",
       "11167                0.000000                  NaN            0.0   \n",
       "22074                0.666667                  NaN            0.0   \n",
       "\n",
       "       psa_max_gr_flia  psa_min_gr_flia  Cant_Fliar_riesgos  ...  CORONARIOS  \\\n",
       "ID                                                           ...               \n",
       "12596              NaN              NaN                 0.0  ...           0   \n",
       "29326              NaN              NaN                 0.0  ...           0   \n",
       "24338              NaN              NaN                 0.0  ...           0   \n",
       "11167              NaN              NaN                 0.0  ...           1   \n",
       "22074              NaN              NaN                 1.0  ...           0   \n",
       "\n",
       "       CORONARIOS_FAMILIAR  CEREBRAL  CEREBRAL_FAMILIAR ENFERMEDAD_RENAL  \\\n",
       "ID                                                                         \n",
       "12596                    0         0                  0                0   \n",
       "29326                    0         0                  0                0   \n",
       "24338                    0         0                  0                0   \n",
       "11167                    0         1                  0                1   \n",
       "22074                    0         0                  0                0   \n",
       "\n",
       "      ENFERMEDAD_RENAL_FAMILIAR OTROS_ANTECEDENTES_VASCULARES     Pendiente  \\\n",
       "ID                                                                            \n",
       "12596                         0                             0  5.421180e+06   \n",
       "29326                         0                             0 -9.504343e+03   \n",
       "24338                         0                             0  2.477143e+03   \n",
       "11167                         0                             0  3.597143e+03   \n",
       "22074                         0                             0 -9.042514e+03   \n",
       "\n",
       "         Intercepto Promedio_costo  \n",
       "ID                                  \n",
       "12596 -1.256617e+07   9.611937e+06  \n",
       "29326  5.997787e+04   8.013800e+04  \n",
       "24338 -5.780000e+03   1.734000e+04  \n",
       "11167 -8.393333e+03   2.518000e+04  \n",
       "22074  6.309881e+05   5.993393e+05  \n",
       "\n",
       "[5 rows x 45 columns]"
      ]
     },
     "execution_count": 3,
     "metadata": {},
     "output_type": "execute_result"
    }
   ],
   "source": [
    "df1 = pd.read_parquet(osp.join(DATA_DIR, \"df_test.parquet\"))\n",
    "print(df1.shape)\n",
    "df1.head()"
   ]
  },
  {
   "cell_type": "code",
   "execution_count": 4,
   "id": "e9926d63",
   "metadata": {
    "execution": {
     "iopub.execute_input": "2024-09-18T22:12:30.851959Z",
     "iopub.status.busy": "2024-09-18T22:12:30.851568Z",
     "iopub.status.idle": "2024-09-18T22:12:30.893231Z",
     "shell.execute_reply": "2024-09-18T22:12:30.892223Z"
    },
    "papermill": {
     "duration": 0.059193,
     "end_time": "2024-09-18T22:12:30.895302",
     "exception": false,
     "start_time": "2024-09-18T22:12:30.836109",
     "status": "completed"
    },
    "tags": []
   },
   "outputs": [
    {
     "name": "stdout",
     "output_type": "stream",
     "text": [
      "<class 'pandas.core.frame.DataFrame'>\n",
      "Index: 10069 entries, 12596 to 22281\n",
      "Data columns (total 45 columns):\n",
      " #   Column                         Non-Null Count  Dtype  \n",
      "---  ------                         --------------  -----  \n",
      " 0   MEDICAMENTOS                   10069 non-null  float64\n",
      " 1   MEDICINA ESPECIALIZADA         10069 non-null  float64\n",
      " 2   MEDICINA GENERAL               10069 non-null  float64\n",
      " 3   Cant_gr_flia                   10069 non-null  int64  \n",
      " 4   Cant_riesgos_flia_mean         10069 non-null  float64\n",
      " 5   min_Tiempo_CP_Fliar            2 non-null      float64\n",
      " 6   Cant_Fliar_CP                  10069 non-null  float64\n",
      " 7   psa_max_gr_flia                76 non-null     float64\n",
      " 8   psa_min_gr_flia                76 non-null     float64\n",
      " 9   Cant_Fliar_riesgos             10069 non-null  float64\n",
      " 10  cantidad_serv_flia             10069 non-null  float64\n",
      " 11  Pendiente_flia                 10069 non-null  float64\n",
      " 12  Intercepto_flia                10069 non-null  float64\n",
      " 13  Promedio_costo_flia            10069 non-null  float64\n",
      " 14  ESTADO_CIVI                    10069 non-null  object \n",
      " 15  PROGRAMA                       10069 non-null  object \n",
      " 16  estrato                        10069 non-null  object \n",
      " 17  IMC                            5711 non-null   object \n",
      " 18  AGRUPACION_SISTOLICA           8683 non-null   object \n",
      " 19  AGRUPACION_DIASTOLICA          8683 non-null   object \n",
      " 20  parentesco                     10069 non-null  object \n",
      " 21  EDAD                           10069 non-null  float64\n",
      " 22  RIESGOS                        3102 non-null   float64\n",
      " 23  CANTIDAD_SERVICIOS             10069 non-null  float64\n",
      " 24  PERDIDA_DE_PESO                2492 non-null   float64\n",
      " 25  TIEMPO_ULTIMA_CITA             10069 non-null  float64\n",
      " 26  conteo_dx_diferentes           10069 non-null  float64\n",
      " 27  TIEMPO_AFILIACION              10069 non-null  float64\n",
      " 28  CANCER_MAMA_FAMILIAR           7102 non-null   object \n",
      " 29  CANCER_OTRO_SITIO              10069 non-null  object \n",
      " 30  CANCER_OTRO_SITIO_FAMILIAR     10069 non-null  object \n",
      " 31  HIPERTENSION                   10069 non-null  object \n",
      " 32  HIPERTENSION_FAMILIAR          10069 non-null  object \n",
      " 33  DIABETES                       10069 non-null  object \n",
      " 34  DIABETES_FAMILIAR              10069 non-null  object \n",
      " 35  CORONARIOS                     10069 non-null  object \n",
      " 36  CORONARIOS_FAMILIAR            10069 non-null  object \n",
      " 37  CEREBRAL                       10069 non-null  object \n",
      " 38  CEREBRAL_FAMILIAR              10069 non-null  object \n",
      " 39  ENFERMEDAD_RENAL               10069 non-null  object \n",
      " 40  ENFERMEDAD_RENAL_FAMILIAR      10069 non-null  object \n",
      " 41  OTROS_ANTECEDENTES_VASCULARES  10069 non-null  object \n",
      " 42  Pendiente                      10069 non-null  float64\n",
      " 43  Intercepto                     10069 non-null  float64\n",
      " 44  Promedio_costo                 10069 non-null  float64\n",
      "dtypes: float64(23), int64(1), object(21)\n",
      "memory usage: 3.5+ MB\n"
     ]
    }
   ],
   "source": [
    "df1.info()"
   ]
  },
  {
   "cell_type": "code",
   "execution_count": 5,
   "id": "16ec56fe",
   "metadata": {
    "execution": {
     "iopub.execute_input": "2024-09-18T22:12:30.925729Z",
     "iopub.status.busy": "2024-09-18T22:12:30.925443Z",
     "iopub.status.idle": "2024-09-18T22:12:30.942363Z",
     "shell.execute_reply": "2024-09-18T22:12:30.941556Z"
    },
    "papermill": {
     "duration": 0.034522,
     "end_time": "2024-09-18T22:12:30.944481",
     "exception": false,
     "start_time": "2024-09-18T22:12:30.909959",
     "status": "completed"
    },
    "tags": []
   },
   "outputs": [
    {
     "data": {
      "text/plain": [
       "Target\n",
       "0    71.537414\n",
       "1    28.462586\n",
       "Name: proportion, dtype: float64"
      ]
     },
     "execution_count": 5,
     "metadata": {},
     "output_type": "execute_result"
    }
   ],
   "source": [
    "X, y = df.drop(columns=\"Target\"), df[\"Target\"]\n",
    "y.value_counts(True) * 100\n"
   ]
  },
  {
   "cell_type": "code",
   "execution_count": 6,
   "id": "92736091",
   "metadata": {
    "execution": {
     "iopub.execute_input": "2024-09-18T22:12:30.975469Z",
     "iopub.status.busy": "2024-09-18T22:12:30.975168Z",
     "iopub.status.idle": "2024-09-18T22:12:31.059585Z",
     "shell.execute_reply": "2024-09-18T22:12:31.058837Z"
    },
    "papermill": {
     "duration": 0.101853,
     "end_time": "2024-09-18T22:12:31.061620",
     "exception": false,
     "start_time": "2024-09-18T22:12:30.959767",
     "status": "completed"
    },
    "tags": []
   },
   "outputs": [],
   "source": [
    "porcetaje_de_nulidad = (\n",
    "    X.isnull()\n",
    "    .apply(lambda s: s.value_counts(True)).T\n",
    ") \n",
    "\n",
    "porcetaje_de_nulidad.columns = ['not_null', 'null']\n",
    "variables_muy_nulas = porcetaje_de_nulidad.query('null > 0.7').index"
   ]
  },
  {
   "cell_type": "code",
   "execution_count": 7,
   "id": "68fcd2e2",
   "metadata": {
    "execution": {
     "iopub.execute_input": "2024-09-18T22:12:31.093302Z",
     "iopub.status.busy": "2024-09-18T22:12:31.092986Z",
     "iopub.status.idle": "2024-09-18T22:12:31.126533Z",
     "shell.execute_reply": "2024-09-18T22:12:31.125747Z"
    },
    "papermill": {
     "duration": 0.051997,
     "end_time": "2024-09-18T22:12:31.128935",
     "exception": false,
     "start_time": "2024-09-18T22:12:31.076938",
     "status": "completed"
    },
    "tags": []
   },
   "outputs": [],
   "source": [
    "X_train, X_test, y_train, y_test = train_test_split(X, y, test_size=0.15, random_state=42)"
   ]
  },
  {
   "cell_type": "code",
   "execution_count": 8,
   "id": "0157e9b8",
   "metadata": {
    "execution": {
     "iopub.execute_input": "2024-09-18T22:12:31.160888Z",
     "iopub.status.busy": "2024-09-18T22:12:31.160578Z",
     "iopub.status.idle": "2024-09-18T22:12:31.172770Z",
     "shell.execute_reply": "2024-09-18T22:12:31.172114Z"
    },
    "papermill": {
     "duration": 0.029591,
     "end_time": "2024-09-18T22:12:31.174646",
     "exception": false,
     "start_time": "2024-09-18T22:12:31.145055",
     "status": "completed"
    },
    "tags": []
   },
   "outputs": [],
   "source": [
    "var_numericas = X_train.select_dtypes('number').columns\n",
    "var_categoricas = X_train.select_dtypes('object').columns"
   ]
  },
  {
   "cell_type": "code",
   "execution_count": 9,
   "id": "bce8f1b6",
   "metadata": {
    "execution": {
     "iopub.execute_input": "2024-09-18T22:12:31.204766Z",
     "iopub.status.busy": "2024-09-18T22:12:31.204511Z",
     "iopub.status.idle": "2024-09-18T22:12:31.211678Z",
     "shell.execute_reply": "2024-09-18T22:12:31.210821Z"
    },
    "papermill": {
     "duration": 0.024929,
     "end_time": "2024-09-18T22:12:31.214204",
     "exception": false,
     "start_time": "2024-09-18T22:12:31.189275",
     "status": "completed"
    },
    "tags": []
   },
   "outputs": [
    {
     "name": "stdout",
     "output_type": "stream",
     "text": [
      "Target\n",
      "0    71.590966\n",
      "1    28.409034\n",
      "Name: proportion, dtype: float64\n",
      "Target\n",
      "0    71.234043\n",
      "1    28.765957\n",
      "Name: proportion, dtype: float64\n"
     ]
    }
   ],
   "source": [
    "print(y_train.value_counts(True)*100)\n",
    "print(y_test.value_counts(True)*100)"
   ]
  },
  {
   "cell_type": "markdown",
   "id": "78a377b5",
   "metadata": {
    "papermill": {
     "duration": 0.014983,
     "end_time": "2024-09-18T22:12:31.245159",
     "exception": false,
     "start_time": "2024-09-18T22:12:31.230176",
     "status": "completed"
    },
    "tags": []
   },
   "source": [
    "# Data Processing"
   ]
  },
  {
   "cell_type": "markdown",
   "id": "cba037a0",
   "metadata": {
    "papermill": {
     "duration": 0.014327,
     "end_time": "2024-09-18T22:12:31.274048",
     "exception": false,
     "start_time": "2024-09-18T22:12:31.259721",
     "status": "completed"
    },
    "tags": []
   },
   "source": [
    "Ejemplo sobre como usar Pipelines: https://scikit-learn.org/stable/auto_examples/compose/plot_column_transformer_mixed_types.html\n",
    "\n",
    "https://towardsdatascience.com/creating-custom-transformers-for-sklearn-pipelines-d3d51852ecc1"
   ]
  },
  {
   "cell_type": "code",
   "execution_count": 10,
   "id": "c36cadd2",
   "metadata": {
    "execution": {
     "iopub.execute_input": "2024-09-18T22:12:31.304246Z",
     "iopub.status.busy": "2024-09-18T22:12:31.303985Z",
     "iopub.status.idle": "2024-09-18T22:12:31.309578Z",
     "shell.execute_reply": "2024-09-18T22:12:31.308668Z"
    },
    "papermill": {
     "duration": 0.022851,
     "end_time": "2024-09-18T22:12:31.311409",
     "exception": false,
     "start_time": "2024-09-18T22:12:31.288558",
     "status": "completed"
    },
    "tags": []
   },
   "outputs": [],
   "source": [
    "# Define el Custom Transformer\n",
    "class CustomTransformer(BaseEstimator, TransformerMixin):\n",
    "    def __init__(self, multiply_by=1):  # Define parámetros si es necesario\n",
    "        self.multiply_by = multiply_by\n",
    "\n",
    "    def fit(self, X, y=None):\n",
    "        # En el fit normalmente se calculan parámetros, pero aquí no se necesita\n",
    "        return self\n",
    "\n",
    "    def transform(self, X):\n",
    "        # Aplica la transformación a los datos\n",
    "        return X * self.multiply_by"
   ]
  },
  {
   "cell_type": "code",
   "execution_count": 11,
   "id": "1e40ea40",
   "metadata": {
    "execution": {
     "iopub.execute_input": "2024-09-18T22:12:31.342594Z",
     "iopub.status.busy": "2024-09-18T22:12:31.341839Z",
     "iopub.status.idle": "2024-09-18T22:12:31.346165Z",
     "shell.execute_reply": "2024-09-18T22:12:31.345386Z"
    },
    "papermill": {
     "duration": 0.022046,
     "end_time": "2024-09-18T22:12:31.348015",
     "exception": false,
     "start_time": "2024-09-18T22:12:31.325969",
     "status": "completed"
    },
    "tags": []
   },
   "outputs": [],
   "source": [
    "# Ejemplo de pipeline con el transformador personalizado\n",
    "pipeline_sam = Pipeline([\n",
    "    ('scaler', StandardScaler()),  # Ejemplo de transformador estándar\n",
    "    ('custom', CustomTransformer(multiply_by=3))  # Nuestro transformador personalizado\n",
    "])"
   ]
  },
  {
   "cell_type": "code",
   "execution_count": 12,
   "id": "82ab495e",
   "metadata": {
    "execution": {
     "iopub.execute_input": "2024-09-18T22:12:31.378629Z",
     "iopub.status.busy": "2024-09-18T22:12:31.378387Z",
     "iopub.status.idle": "2024-09-18T22:12:31.382289Z",
     "shell.execute_reply": "2024-09-18T22:12:31.381455Z"
    },
    "papermill": {
     "duration": 0.021451,
     "end_time": "2024-09-18T22:12:31.384189",
     "exception": false,
     "start_time": "2024-09-18T22:12:31.362738",
     "status": "completed"
    },
    "tags": []
   },
   "outputs": [],
   "source": [
    "# Datos de ejemplo\n",
    "X_sam = np.array([[1, 2], [3, 4], [5, 6]])"
   ]
  },
  {
   "cell_type": "code",
   "execution_count": 13,
   "id": "3f5e7306",
   "metadata": {
    "execution": {
     "iopub.execute_input": "2024-09-18T22:12:31.415338Z",
     "iopub.status.busy": "2024-09-18T22:12:31.415042Z",
     "iopub.status.idle": "2024-09-18T22:12:31.420966Z",
     "shell.execute_reply": "2024-09-18T22:12:31.420040Z"
    },
    "papermill": {
     "duration": 0.023931,
     "end_time": "2024-09-18T22:12:31.423010",
     "exception": false,
     "start_time": "2024-09-18T22:12:31.399079",
     "status": "completed"
    },
    "tags": []
   },
   "outputs": [
    {
     "data": {
      "text/plain": [
       "array([[1, 2],\n",
       "       [3, 4],\n",
       "       [5, 6]])"
      ]
     },
     "execution_count": 13,
     "metadata": {},
     "output_type": "execute_result"
    }
   ],
   "source": [
    "X_sam"
   ]
  },
  {
   "cell_type": "code",
   "execution_count": 14,
   "id": "efcc5b1b",
   "metadata": {
    "execution": {
     "iopub.execute_input": "2024-09-18T22:12:31.454714Z",
     "iopub.status.busy": "2024-09-18T22:12:31.454371Z",
     "iopub.status.idle": "2024-09-18T22:12:31.460911Z",
     "shell.execute_reply": "2024-09-18T22:12:31.459999Z"
    },
    "papermill": {
     "duration": 0.025137,
     "end_time": "2024-09-18T22:12:31.463673",
     "exception": false,
     "start_time": "2024-09-18T22:12:31.438536",
     "status": "completed"
    },
    "tags": []
   },
   "outputs": [
    {
     "name": "stdout",
     "output_type": "stream",
     "text": [
      "[[-3.67423461 -3.67423461]\n",
      " [ 0.          0.        ]\n",
      " [ 3.67423461  3.67423461]]\n"
     ]
    }
   ],
   "source": [
    "# Aplicar el pipeline\n",
    "transformed_X = pipeline_sam.fit_transform(X_sam)\n",
    "print(transformed_X)"
   ]
  },
  {
   "cell_type": "code",
   "execution_count": 15,
   "id": "2742cbcd",
   "metadata": {
    "execution": {
     "iopub.execute_input": "2024-09-18T22:12:31.496617Z",
     "iopub.status.busy": "2024-09-18T22:12:31.496248Z",
     "iopub.status.idle": "2024-09-18T22:12:31.503157Z",
     "shell.execute_reply": "2024-09-18T22:12:31.502270Z"
    },
    "papermill": {
     "duration": 0.0252,
     "end_time": "2024-09-18T22:12:31.505113",
     "exception": false,
     "start_time": "2024-09-18T22:12:31.479913",
     "status": "completed"
    },
    "tags": []
   },
   "outputs": [],
   "source": [
    "class LDATransformer(BaseEstimator, TransformerMixin):\n",
    "    def __init__(self):\n",
    "        return None\n",
    "    \n",
    "    def fit(self, X, y=None):\n",
    "        self.clf = LinearDiscriminantAnalysis()\n",
    "        self.clf.fit(X,y) \n",
    "        return self\n",
    "\n",
    "    def transform(self, X, y=None):\n",
    "      # Perform arbitary transformation\n",
    "        X_transformed = X.copy()\n",
    "        lda = pd.DataFrame(self.clf.transform(X_transformed)).rename(columns={0:'LDA'})\n",
    "        X_transformed=pd.DataFrame(X_transformed)\n",
    "        X_transformed = pd.concat([X_transformed,lda],axis=1)\n",
    "        return X_transformed"
   ]
  },
  {
   "cell_type": "code",
   "execution_count": 16,
   "id": "0b6bdd8d",
   "metadata": {
    "execution": {
     "iopub.execute_input": "2024-09-18T22:12:31.537279Z",
     "iopub.status.busy": "2024-09-18T22:12:31.536906Z",
     "iopub.status.idle": "2024-09-18T22:12:31.541361Z",
     "shell.execute_reply": "2024-09-18T22:12:31.540458Z"
    },
    "papermill": {
     "duration": 0.023092,
     "end_time": "2024-09-18T22:12:31.543500",
     "exception": false,
     "start_time": "2024-09-18T22:12:31.520408",
     "status": "completed"
    },
    "tags": []
   },
   "outputs": [],
   "source": [
    "Imputer = SimpleImputer(strategy=\"median\")\n",
    "Scaler = StandardScaler()\n",
    "LDA = LinearDiscriminantAnalysis()"
   ]
  },
  {
   "cell_type": "code",
   "execution_count": 17,
   "id": "27e884cc",
   "metadata": {
    "execution": {
     "iopub.execute_input": "2024-09-18T22:12:31.575477Z",
     "iopub.status.busy": "2024-09-18T22:12:31.575122Z",
     "iopub.status.idle": "2024-09-18T22:12:31.584353Z",
     "shell.execute_reply": "2024-09-18T22:12:31.583539Z"
    },
    "papermill": {
     "duration": 0.027428,
     "end_time": "2024-09-18T22:12:31.586357",
     "exception": false,
     "start_time": "2024-09-18T22:12:31.558929",
     "status": "completed"
    },
    "tags": []
   },
   "outputs": [],
   "source": [
    "X_num = X[var_numericas].copy()"
   ]
  },
  {
   "cell_type": "code",
   "execution_count": 18,
   "id": "7f8a1d5d",
   "metadata": {
    "execution": {
     "iopub.execute_input": "2024-09-18T22:12:31.618298Z",
     "iopub.status.busy": "2024-09-18T22:12:31.617957Z",
     "iopub.status.idle": "2024-09-18T22:12:31.684123Z",
     "shell.execute_reply": "2024-09-18T22:12:31.683271Z"
    },
    "papermill": {
     "duration": 0.084934,
     "end_time": "2024-09-18T22:12:31.686462",
     "exception": false,
     "start_time": "2024-09-18T22:12:31.601528",
     "status": "completed"
    },
    "tags": []
   },
   "outputs": [],
   "source": [
    "Imputer.fit(X_num)\n",
    "X_num_proces = Imputer.transform(X_num)"
   ]
  },
  {
   "cell_type": "code",
   "execution_count": 19,
   "id": "f81952a5",
   "metadata": {
    "execution": {
     "iopub.execute_input": "2024-09-18T22:12:31.718102Z",
     "iopub.status.busy": "2024-09-18T22:12:31.717759Z",
     "iopub.status.idle": "2024-09-18T22:12:31.726723Z",
     "shell.execute_reply": "2024-09-18T22:12:31.726058Z"
    },
    "papermill": {
     "duration": 0.026846,
     "end_time": "2024-09-18T22:12:31.728594",
     "exception": false,
     "start_time": "2024-09-18T22:12:31.701748",
     "status": "completed"
    },
    "tags": []
   },
   "outputs": [],
   "source": [
    "Scaler.fit(X_num_proces)\n",
    "X_num_proces = Scaler.transform(X_num_proces)"
   ]
  },
  {
   "cell_type": "code",
   "execution_count": 20,
   "id": "5f041301",
   "metadata": {
    "execution": {
     "iopub.execute_input": "2024-09-18T22:12:31.808272Z",
     "iopub.status.busy": "2024-09-18T22:12:31.807363Z",
     "iopub.status.idle": "2024-09-18T22:12:31.874551Z",
     "shell.execute_reply": "2024-09-18T22:12:31.873315Z"
    },
    "papermill": {
     "duration": 0.13415,
     "end_time": "2024-09-18T22:12:31.877868",
     "exception": false,
     "start_time": "2024-09-18T22:12:31.743718",
     "status": "completed"
    },
    "tags": []
   },
   "outputs": [
    {
     "data": {
      "text/html": [
       "<style>#sk-container-id-1 {color: black;background-color: white;}#sk-container-id-1 pre{padding: 0;}#sk-container-id-1 div.sk-toggleable {background-color: white;}#sk-container-id-1 label.sk-toggleable__label {cursor: pointer;display: block;width: 100%;margin-bottom: 0;padding: 0.3em;box-sizing: border-box;text-align: center;}#sk-container-id-1 label.sk-toggleable__label-arrow:before {content: \"▸\";float: left;margin-right: 0.25em;color: #696969;}#sk-container-id-1 label.sk-toggleable__label-arrow:hover:before {color: black;}#sk-container-id-1 div.sk-estimator:hover label.sk-toggleable__label-arrow:before {color: black;}#sk-container-id-1 div.sk-toggleable__content {max-height: 0;max-width: 0;overflow: hidden;text-align: left;background-color: #f0f8ff;}#sk-container-id-1 div.sk-toggleable__content pre {margin: 0.2em;color: black;border-radius: 0.25em;background-color: #f0f8ff;}#sk-container-id-1 input.sk-toggleable__control:checked~div.sk-toggleable__content {max-height: 200px;max-width: 100%;overflow: auto;}#sk-container-id-1 input.sk-toggleable__control:checked~label.sk-toggleable__label-arrow:before {content: \"▾\";}#sk-container-id-1 div.sk-estimator input.sk-toggleable__control:checked~label.sk-toggleable__label {background-color: #d4ebff;}#sk-container-id-1 div.sk-label input.sk-toggleable__control:checked~label.sk-toggleable__label {background-color: #d4ebff;}#sk-container-id-1 input.sk-hidden--visually {border: 0;clip: rect(1px 1px 1px 1px);clip: rect(1px, 1px, 1px, 1px);height: 1px;margin: -1px;overflow: hidden;padding: 0;position: absolute;width: 1px;}#sk-container-id-1 div.sk-estimator {font-family: monospace;background-color: #f0f8ff;border: 1px dotted black;border-radius: 0.25em;box-sizing: border-box;margin-bottom: 0.5em;}#sk-container-id-1 div.sk-estimator:hover {background-color: #d4ebff;}#sk-container-id-1 div.sk-parallel-item::after {content: \"\";width: 100%;border-bottom: 1px solid gray;flex-grow: 1;}#sk-container-id-1 div.sk-label:hover label.sk-toggleable__label {background-color: #d4ebff;}#sk-container-id-1 div.sk-serial::before {content: \"\";position: absolute;border-left: 1px solid gray;box-sizing: border-box;top: 0;bottom: 0;left: 50%;z-index: 0;}#sk-container-id-1 div.sk-serial {display: flex;flex-direction: column;align-items: center;background-color: white;padding-right: 0.2em;padding-left: 0.2em;position: relative;}#sk-container-id-1 div.sk-item {position: relative;z-index: 1;}#sk-container-id-1 div.sk-parallel {display: flex;align-items: stretch;justify-content: center;background-color: white;position: relative;}#sk-container-id-1 div.sk-item::before, #sk-container-id-1 div.sk-parallel-item::before {content: \"\";position: absolute;border-left: 1px solid gray;box-sizing: border-box;top: 0;bottom: 0;left: 50%;z-index: -1;}#sk-container-id-1 div.sk-parallel-item {display: flex;flex-direction: column;z-index: 1;position: relative;background-color: white;}#sk-container-id-1 div.sk-parallel-item:first-child::after {align-self: flex-end;width: 50%;}#sk-container-id-1 div.sk-parallel-item:last-child::after {align-self: flex-start;width: 50%;}#sk-container-id-1 div.sk-parallel-item:only-child::after {width: 0;}#sk-container-id-1 div.sk-dashed-wrapped {border: 1px dashed gray;margin: 0 0.4em 0.5em 0.4em;box-sizing: border-box;padding-bottom: 0.4em;background-color: white;}#sk-container-id-1 div.sk-label label {font-family: monospace;font-weight: bold;display: inline-block;line-height: 1.2em;}#sk-container-id-1 div.sk-label-container {text-align: center;}#sk-container-id-1 div.sk-container {/* jupyter's `normalize.less` sets `[hidden] { display: none; }` but bootstrap.min.css set `[hidden] { display: none !important; }` so we also need the `!important` here to be able to override the default hidden behavior on the sphinx rendered scikit-learn.org. See: https://github.com/scikit-learn/scikit-learn/issues/21755 */display: inline-block !important;position: relative;}#sk-container-id-1 div.sk-text-repr-fallback {display: none;}</style><div id=\"sk-container-id-1\" class=\"sk-top-container\"><div class=\"sk-text-repr-fallback\"><pre>LinearDiscriminantAnalysis()</pre><b>In a Jupyter environment, please rerun this cell to show the HTML representation or trust the notebook. <br />On GitHub, the HTML representation is unable to render, please try loading this page with nbviewer.org.</b></div><div class=\"sk-container\" hidden><div class=\"sk-item\"><div class=\"sk-estimator sk-toggleable\"><input class=\"sk-toggleable__control sk-hidden--visually\" id=\"sk-estimator-id-1\" type=\"checkbox\" checked><label for=\"sk-estimator-id-1\" class=\"sk-toggleable__label sk-toggleable__label-arrow\">LinearDiscriminantAnalysis</label><div class=\"sk-toggleable__content\"><pre>LinearDiscriminantAnalysis()</pre></div></div></div></div></div>"
      ],
      "text/plain": [
       "LinearDiscriminantAnalysis()"
      ]
     },
     "execution_count": 20,
     "metadata": {},
     "output_type": "execute_result"
    }
   ],
   "source": [
    "LDA.fit(X_num_proces,y)"
   ]
  },
  {
   "cell_type": "code",
   "execution_count": 21,
   "id": "1ef13207",
   "metadata": {
    "execution": {
     "iopub.execute_input": "2024-09-18T22:12:31.943739Z",
     "iopub.status.busy": "2024-09-18T22:12:31.942452Z",
     "iopub.status.idle": "2024-09-18T22:12:31.955977Z",
     "shell.execute_reply": "2024-09-18T22:12:31.954787Z"
    },
    "papermill": {
     "duration": 0.049413,
     "end_time": "2024-09-18T22:12:31.959252",
     "exception": false,
     "start_time": "2024-09-18T22:12:31.909839",
     "status": "completed"
    },
    "tags": []
   },
   "outputs": [],
   "source": [
    "X_num_proces = LDA.transform(X_num_proces)"
   ]
  },
  {
   "cell_type": "code",
   "execution_count": 22,
   "id": "06b20c43",
   "metadata": {
    "execution": {
     "iopub.execute_input": "2024-09-18T22:12:32.042047Z",
     "iopub.status.busy": "2024-09-18T22:12:32.040616Z",
     "iopub.status.idle": "2024-09-18T22:12:32.051149Z",
     "shell.execute_reply": "2024-09-18T22:12:32.049950Z"
    },
    "papermill": {
     "duration": 0.049678,
     "end_time": "2024-09-18T22:12:32.055259",
     "exception": false,
     "start_time": "2024-09-18T22:12:32.005581",
     "status": "completed"
    },
    "tags": []
   },
   "outputs": [],
   "source": [
    "numeric_transformer = Pipeline(\n",
    "    steps=[(\"imputer\", SimpleImputer(strategy=\"median\")), (\"scaler\", StandardScaler()), (\"LDA_feature\",LDATransformer())]\n",
    ")\n",
    "\n",
    "categorical_transformer = OneHotEncoder(handle_unknown=\"ignore\", drop=\"if_binary\")\n",
    "\n",
    "preprocessor = ColumnTransformer(\n",
    "    transformers=[\n",
    "        (\"num\", numeric_transformer, var_numericas),\n",
    "        (\"cat\", categorical_transformer, var_categoricas),\n",
    "    ]\n",
    ")"
   ]
  },
  {
   "cell_type": "code",
   "execution_count": 23,
   "id": "2c0243bc",
   "metadata": {
    "execution": {
     "iopub.execute_input": "2024-09-18T22:12:32.102646Z",
     "iopub.status.busy": "2024-09-18T22:12:32.102393Z",
     "iopub.status.idle": "2024-09-18T22:12:32.571635Z",
     "shell.execute_reply": "2024-09-18T22:12:32.570808Z"
    },
    "papermill": {
     "duration": 0.487297,
     "end_time": "2024-09-18T22:12:32.573835",
     "exception": false,
     "start_time": "2024-09-18T22:12:32.086538",
     "status": "completed"
    },
    "tags": []
   },
   "outputs": [
    {
     "data": {
      "text/html": [
       "<style>#sk-container-id-2 {color: black;background-color: white;}#sk-container-id-2 pre{padding: 0;}#sk-container-id-2 div.sk-toggleable {background-color: white;}#sk-container-id-2 label.sk-toggleable__label {cursor: pointer;display: block;width: 100%;margin-bottom: 0;padding: 0.3em;box-sizing: border-box;text-align: center;}#sk-container-id-2 label.sk-toggleable__label-arrow:before {content: \"▸\";float: left;margin-right: 0.25em;color: #696969;}#sk-container-id-2 label.sk-toggleable__label-arrow:hover:before {color: black;}#sk-container-id-2 div.sk-estimator:hover label.sk-toggleable__label-arrow:before {color: black;}#sk-container-id-2 div.sk-toggleable__content {max-height: 0;max-width: 0;overflow: hidden;text-align: left;background-color: #f0f8ff;}#sk-container-id-2 div.sk-toggleable__content pre {margin: 0.2em;color: black;border-radius: 0.25em;background-color: #f0f8ff;}#sk-container-id-2 input.sk-toggleable__control:checked~div.sk-toggleable__content {max-height: 200px;max-width: 100%;overflow: auto;}#sk-container-id-2 input.sk-toggleable__control:checked~label.sk-toggleable__label-arrow:before {content: \"▾\";}#sk-container-id-2 div.sk-estimator input.sk-toggleable__control:checked~label.sk-toggleable__label {background-color: #d4ebff;}#sk-container-id-2 div.sk-label input.sk-toggleable__control:checked~label.sk-toggleable__label {background-color: #d4ebff;}#sk-container-id-2 input.sk-hidden--visually {border: 0;clip: rect(1px 1px 1px 1px);clip: rect(1px, 1px, 1px, 1px);height: 1px;margin: -1px;overflow: hidden;padding: 0;position: absolute;width: 1px;}#sk-container-id-2 div.sk-estimator {font-family: monospace;background-color: #f0f8ff;border: 1px dotted black;border-radius: 0.25em;box-sizing: border-box;margin-bottom: 0.5em;}#sk-container-id-2 div.sk-estimator:hover {background-color: #d4ebff;}#sk-container-id-2 div.sk-parallel-item::after {content: \"\";width: 100%;border-bottom: 1px solid gray;flex-grow: 1;}#sk-container-id-2 div.sk-label:hover label.sk-toggleable__label {background-color: #d4ebff;}#sk-container-id-2 div.sk-serial::before {content: \"\";position: absolute;border-left: 1px solid gray;box-sizing: border-box;top: 0;bottom: 0;left: 50%;z-index: 0;}#sk-container-id-2 div.sk-serial {display: flex;flex-direction: column;align-items: center;background-color: white;padding-right: 0.2em;padding-left: 0.2em;position: relative;}#sk-container-id-2 div.sk-item {position: relative;z-index: 1;}#sk-container-id-2 div.sk-parallel {display: flex;align-items: stretch;justify-content: center;background-color: white;position: relative;}#sk-container-id-2 div.sk-item::before, #sk-container-id-2 div.sk-parallel-item::before {content: \"\";position: absolute;border-left: 1px solid gray;box-sizing: border-box;top: 0;bottom: 0;left: 50%;z-index: -1;}#sk-container-id-2 div.sk-parallel-item {display: flex;flex-direction: column;z-index: 1;position: relative;background-color: white;}#sk-container-id-2 div.sk-parallel-item:first-child::after {align-self: flex-end;width: 50%;}#sk-container-id-2 div.sk-parallel-item:last-child::after {align-self: flex-start;width: 50%;}#sk-container-id-2 div.sk-parallel-item:only-child::after {width: 0;}#sk-container-id-2 div.sk-dashed-wrapped {border: 1px dashed gray;margin: 0 0.4em 0.5em 0.4em;box-sizing: border-box;padding-bottom: 0.4em;background-color: white;}#sk-container-id-2 div.sk-label label {font-family: monospace;font-weight: bold;display: inline-block;line-height: 1.2em;}#sk-container-id-2 div.sk-label-container {text-align: center;}#sk-container-id-2 div.sk-container {/* jupyter's `normalize.less` sets `[hidden] { display: none; }` but bootstrap.min.css set `[hidden] { display: none !important; }` so we also need the `!important` here to be able to override the default hidden behavior on the sphinx rendered scikit-learn.org. See: https://github.com/scikit-learn/scikit-learn/issues/21755 */display: inline-block !important;position: relative;}#sk-container-id-2 div.sk-text-repr-fallback {display: none;}</style><div id=\"sk-container-id-2\" class=\"sk-top-container\"><div class=\"sk-text-repr-fallback\"><pre>ColumnTransformer(transformers=[(&#x27;num&#x27;,\n",
       "                                 Pipeline(steps=[(&#x27;imputer&#x27;,\n",
       "                                                  SimpleImputer(strategy=&#x27;median&#x27;)),\n",
       "                                                 (&#x27;scaler&#x27;, StandardScaler()),\n",
       "                                                 (&#x27;LDA_feature&#x27;,\n",
       "                                                  LDATransformer())]),\n",
       "                                 Index([&#x27;MEDICAMENTOS&#x27;, &#x27;MEDICINA ESPECIALIZADA&#x27;, &#x27;MEDICINA GENERAL&#x27;,\n",
       "       &#x27;Cant_gr_flia&#x27;, &#x27;Cant_riesgos_flia_mean&#x27;, &#x27;min_Tiempo_CP_Fliar&#x27;,\n",
       "       &#x27;Cant_Fliar_CP&#x27;, &#x27;psa_max_gr_flia&#x27;, &#x27;psa_min_gr_flia&#x27;,\n",
       "       &#x27;Cant_Fli...\n",
       "                                 Index([&#x27;ESTADO_CIVI&#x27;, &#x27;PROGRAMA&#x27;, &#x27;estrato&#x27;, &#x27;IMC&#x27;, &#x27;AGRUPACION_SISTOLICA&#x27;,\n",
       "       &#x27;AGRUPACION_DIASTOLICA&#x27;, &#x27;parentesco&#x27;, &#x27;CANCER_MAMA_FAMILIAR&#x27;,\n",
       "       &#x27;CANCER_OTRO_SITIO&#x27;, &#x27;CANCER_OTRO_SITIO_FAMILIAR&#x27;, &#x27;HIPERTENSION&#x27;,\n",
       "       &#x27;HIPERTENSION_FAMILIAR&#x27;, &#x27;DIABETES&#x27;, &#x27;DIABETES_FAMILIAR&#x27;, &#x27;CORONARIOS&#x27;,\n",
       "       &#x27;CORONARIOS_FAMILIAR&#x27;, &#x27;CEREBRAL&#x27;, &#x27;CEREBRAL_FAMILIAR&#x27;,\n",
       "       &#x27;ENFERMEDAD_RENAL&#x27;, &#x27;ENFERMEDAD_RENAL_FAMILIAR&#x27;,\n",
       "       &#x27;OTROS_ANTECEDENTES_VASCULARES&#x27;],\n",
       "      dtype=&#x27;object&#x27;))])</pre><b>In a Jupyter environment, please rerun this cell to show the HTML representation or trust the notebook. <br />On GitHub, the HTML representation is unable to render, please try loading this page with nbviewer.org.</b></div><div class=\"sk-container\" hidden><div class=\"sk-item sk-dashed-wrapped\"><div class=\"sk-label-container\"><div class=\"sk-label sk-toggleable\"><input class=\"sk-toggleable__control sk-hidden--visually\" id=\"sk-estimator-id-2\" type=\"checkbox\" ><label for=\"sk-estimator-id-2\" class=\"sk-toggleable__label sk-toggleable__label-arrow\">ColumnTransformer</label><div class=\"sk-toggleable__content\"><pre>ColumnTransformer(transformers=[(&#x27;num&#x27;,\n",
       "                                 Pipeline(steps=[(&#x27;imputer&#x27;,\n",
       "                                                  SimpleImputer(strategy=&#x27;median&#x27;)),\n",
       "                                                 (&#x27;scaler&#x27;, StandardScaler()),\n",
       "                                                 (&#x27;LDA_feature&#x27;,\n",
       "                                                  LDATransformer())]),\n",
       "                                 Index([&#x27;MEDICAMENTOS&#x27;, &#x27;MEDICINA ESPECIALIZADA&#x27;, &#x27;MEDICINA GENERAL&#x27;,\n",
       "       &#x27;Cant_gr_flia&#x27;, &#x27;Cant_riesgos_flia_mean&#x27;, &#x27;min_Tiempo_CP_Fliar&#x27;,\n",
       "       &#x27;Cant_Fliar_CP&#x27;, &#x27;psa_max_gr_flia&#x27;, &#x27;psa_min_gr_flia&#x27;,\n",
       "       &#x27;Cant_Fli...\n",
       "                                 Index([&#x27;ESTADO_CIVI&#x27;, &#x27;PROGRAMA&#x27;, &#x27;estrato&#x27;, &#x27;IMC&#x27;, &#x27;AGRUPACION_SISTOLICA&#x27;,\n",
       "       &#x27;AGRUPACION_DIASTOLICA&#x27;, &#x27;parentesco&#x27;, &#x27;CANCER_MAMA_FAMILIAR&#x27;,\n",
       "       &#x27;CANCER_OTRO_SITIO&#x27;, &#x27;CANCER_OTRO_SITIO_FAMILIAR&#x27;, &#x27;HIPERTENSION&#x27;,\n",
       "       &#x27;HIPERTENSION_FAMILIAR&#x27;, &#x27;DIABETES&#x27;, &#x27;DIABETES_FAMILIAR&#x27;, &#x27;CORONARIOS&#x27;,\n",
       "       &#x27;CORONARIOS_FAMILIAR&#x27;, &#x27;CEREBRAL&#x27;, &#x27;CEREBRAL_FAMILIAR&#x27;,\n",
       "       &#x27;ENFERMEDAD_RENAL&#x27;, &#x27;ENFERMEDAD_RENAL_FAMILIAR&#x27;,\n",
       "       &#x27;OTROS_ANTECEDENTES_VASCULARES&#x27;],\n",
       "      dtype=&#x27;object&#x27;))])</pre></div></div></div><div class=\"sk-parallel\"><div class=\"sk-parallel-item\"><div class=\"sk-item\"><div class=\"sk-label-container\"><div class=\"sk-label sk-toggleable\"><input class=\"sk-toggleable__control sk-hidden--visually\" id=\"sk-estimator-id-3\" type=\"checkbox\" ><label for=\"sk-estimator-id-3\" class=\"sk-toggleable__label sk-toggleable__label-arrow\">num</label><div class=\"sk-toggleable__content\"><pre>Index([&#x27;MEDICAMENTOS&#x27;, &#x27;MEDICINA ESPECIALIZADA&#x27;, &#x27;MEDICINA GENERAL&#x27;,\n",
       "       &#x27;Cant_gr_flia&#x27;, &#x27;Cant_riesgos_flia_mean&#x27;, &#x27;min_Tiempo_CP_Fliar&#x27;,\n",
       "       &#x27;Cant_Fliar_CP&#x27;, &#x27;psa_max_gr_flia&#x27;, &#x27;psa_min_gr_flia&#x27;,\n",
       "       &#x27;Cant_Fliar_riesgos&#x27;, &#x27;cantidad_serv_flia&#x27;, &#x27;Pendiente_flia&#x27;,\n",
       "       &#x27;Intercepto_flia&#x27;, &#x27;Promedio_costo_flia&#x27;, &#x27;EDAD&#x27;, &#x27;RIESGOS&#x27;,\n",
       "       &#x27;CANTIDAD_SERVICIOS&#x27;, &#x27;PERDIDA_DE_PESO&#x27;, &#x27;TIEMPO_ULTIMA_CITA&#x27;,\n",
       "       &#x27;conteo_dx_diferentes&#x27;, &#x27;TIEMPO_AFILIACION&#x27;, &#x27;Pendiente&#x27;, &#x27;Intercepto&#x27;,\n",
       "       &#x27;Promedio_costo&#x27;],\n",
       "      dtype=&#x27;object&#x27;)</pre></div></div></div><div class=\"sk-serial\"><div class=\"sk-item\"><div class=\"sk-serial\"><div class=\"sk-item\"><div class=\"sk-estimator sk-toggleable\"><input class=\"sk-toggleable__control sk-hidden--visually\" id=\"sk-estimator-id-4\" type=\"checkbox\" ><label for=\"sk-estimator-id-4\" class=\"sk-toggleable__label sk-toggleable__label-arrow\">SimpleImputer</label><div class=\"sk-toggleable__content\"><pre>SimpleImputer(strategy=&#x27;median&#x27;)</pre></div></div></div><div class=\"sk-item\"><div class=\"sk-estimator sk-toggleable\"><input class=\"sk-toggleable__control sk-hidden--visually\" id=\"sk-estimator-id-5\" type=\"checkbox\" ><label for=\"sk-estimator-id-5\" class=\"sk-toggleable__label sk-toggleable__label-arrow\">StandardScaler</label><div class=\"sk-toggleable__content\"><pre>StandardScaler()</pre></div></div></div><div class=\"sk-item\"><div class=\"sk-estimator sk-toggleable\"><input class=\"sk-toggleable__control sk-hidden--visually\" id=\"sk-estimator-id-6\" type=\"checkbox\" ><label for=\"sk-estimator-id-6\" class=\"sk-toggleable__label sk-toggleable__label-arrow\">LDATransformer</label><div class=\"sk-toggleable__content\"><pre>LDATransformer()</pre></div></div></div></div></div></div></div></div><div class=\"sk-parallel-item\"><div class=\"sk-item\"><div class=\"sk-label-container\"><div class=\"sk-label sk-toggleable\"><input class=\"sk-toggleable__control sk-hidden--visually\" id=\"sk-estimator-id-7\" type=\"checkbox\" ><label for=\"sk-estimator-id-7\" class=\"sk-toggleable__label sk-toggleable__label-arrow\">cat</label><div class=\"sk-toggleable__content\"><pre>Index([&#x27;ESTADO_CIVI&#x27;, &#x27;PROGRAMA&#x27;, &#x27;estrato&#x27;, &#x27;IMC&#x27;, &#x27;AGRUPACION_SISTOLICA&#x27;,\n",
       "       &#x27;AGRUPACION_DIASTOLICA&#x27;, &#x27;parentesco&#x27;, &#x27;CANCER_MAMA_FAMILIAR&#x27;,\n",
       "       &#x27;CANCER_OTRO_SITIO&#x27;, &#x27;CANCER_OTRO_SITIO_FAMILIAR&#x27;, &#x27;HIPERTENSION&#x27;,\n",
       "       &#x27;HIPERTENSION_FAMILIAR&#x27;, &#x27;DIABETES&#x27;, &#x27;DIABETES_FAMILIAR&#x27;, &#x27;CORONARIOS&#x27;,\n",
       "       &#x27;CORONARIOS_FAMILIAR&#x27;, &#x27;CEREBRAL&#x27;, &#x27;CEREBRAL_FAMILIAR&#x27;,\n",
       "       &#x27;ENFERMEDAD_RENAL&#x27;, &#x27;ENFERMEDAD_RENAL_FAMILIAR&#x27;,\n",
       "       &#x27;OTROS_ANTECEDENTES_VASCULARES&#x27;],\n",
       "      dtype=&#x27;object&#x27;)</pre></div></div></div><div class=\"sk-serial\"><div class=\"sk-item\"><div class=\"sk-estimator sk-toggleable\"><input class=\"sk-toggleable__control sk-hidden--visually\" id=\"sk-estimator-id-8\" type=\"checkbox\" ><label for=\"sk-estimator-id-8\" class=\"sk-toggleable__label sk-toggleable__label-arrow\">OneHotEncoder</label><div class=\"sk-toggleable__content\"><pre>OneHotEncoder(drop=&#x27;if_binary&#x27;, handle_unknown=&#x27;ignore&#x27;)</pre></div></div></div></div></div></div></div></div></div></div>"
      ],
      "text/plain": [
       "ColumnTransformer(transformers=[('num',\n",
       "                                 Pipeline(steps=[('imputer',\n",
       "                                                  SimpleImputer(strategy='median')),\n",
       "                                                 ('scaler', StandardScaler()),\n",
       "                                                 ('LDA_feature',\n",
       "                                                  LDATransformer())]),\n",
       "                                 Index(['MEDICAMENTOS', 'MEDICINA ESPECIALIZADA', 'MEDICINA GENERAL',\n",
       "       'Cant_gr_flia', 'Cant_riesgos_flia_mean', 'min_Tiempo_CP_Fliar',\n",
       "       'Cant_Fliar_CP', 'psa_max_gr_flia', 'psa_min_gr_flia',\n",
       "       'Cant_Fli...\n",
       "                                 Index(['ESTADO_CIVI', 'PROGRAMA', 'estrato', 'IMC', 'AGRUPACION_SISTOLICA',\n",
       "       'AGRUPACION_DIASTOLICA', 'parentesco', 'CANCER_MAMA_FAMILIAR',\n",
       "       'CANCER_OTRO_SITIO', 'CANCER_OTRO_SITIO_FAMILIAR', 'HIPERTENSION',\n",
       "       'HIPERTENSION_FAMILIAR', 'DIABETES', 'DIABETES_FAMILIAR', 'CORONARIOS',\n",
       "       'CORONARIOS_FAMILIAR', 'CEREBRAL', 'CEREBRAL_FAMILIAR',\n",
       "       'ENFERMEDAD_RENAL', 'ENFERMEDAD_RENAL_FAMILIAR',\n",
       "       'OTROS_ANTECEDENTES_VASCULARES'],\n",
       "      dtype='object'))])"
      ]
     },
     "execution_count": 23,
     "metadata": {},
     "output_type": "execute_result"
    }
   ],
   "source": [
    "preprocessor.fit(X,y)"
   ]
  },
  {
   "cell_type": "code",
   "execution_count": 24,
   "id": "e535a8ac",
   "metadata": {
    "execution": {
     "iopub.execute_input": "2024-09-18T22:12:32.607712Z",
     "iopub.status.busy": "2024-09-18T22:12:32.607084Z",
     "iopub.status.idle": "2024-09-18T22:12:32.922552Z",
     "shell.execute_reply": "2024-09-18T22:12:32.921753Z"
    },
    "papermill": {
     "duration": 0.334677,
     "end_time": "2024-09-18T22:12:32.924846",
     "exception": false,
     "start_time": "2024-09-18T22:12:32.590169",
     "status": "completed"
    },
    "tags": []
   },
   "outputs": [],
   "source": [
    "X_a=preprocessor.transform(X)"
   ]
  },
  {
   "cell_type": "code",
   "execution_count": 25,
   "id": "4fdcca02",
   "metadata": {
    "execution": {
     "iopub.execute_input": "2024-09-18T22:12:32.957637Z",
     "iopub.status.busy": "2024-09-18T22:12:32.957125Z",
     "iopub.status.idle": "2024-09-18T22:12:32.961625Z",
     "shell.execute_reply": "2024-09-18T22:12:32.960752Z"
    },
    "papermill": {
     "duration": 0.022649,
     "end_time": "2024-09-18T22:12:32.963473",
     "exception": false,
     "start_time": "2024-09-18T22:12:32.940824",
     "status": "completed"
    },
    "tags": []
   },
   "outputs": [],
   "source": [
    "def add_model(data_pipeline, model) -> Pipeline:\n",
    "    whole_pipeline = Pipeline([\n",
    "        (\"data_pipeline\", data_pipeline),\n",
    "        (\"model\", model)\n",
    "    ])\n",
    "    return whole_pipeline"
   ]
  },
  {
   "cell_type": "markdown",
   "id": "4d058079",
   "metadata": {
    "papermill": {
     "duration": 0.015268,
     "end_time": "2024-09-18T22:12:32.994054",
     "exception": false,
     "start_time": "2024-09-18T22:12:32.978786",
     "status": "completed"
    },
    "tags": []
   },
   "source": [
    "# Bayesian optimization"
   ]
  },
  {
   "cell_type": "code",
   "execution_count": 26,
   "id": "f8bf2b31",
   "metadata": {
    "execution": {
     "iopub.execute_input": "2024-09-18T22:12:33.025654Z",
     "iopub.status.busy": "2024-09-18T22:12:33.025412Z",
     "iopub.status.idle": "2024-09-18T22:12:33.036457Z",
     "shell.execute_reply": "2024-09-18T22:12:33.035739Z"
    },
    "papermill": {
     "duration": 0.028905,
     "end_time": "2024-09-18T22:12:33.038229",
     "exception": false,
     "start_time": "2024-09-18T22:12:33.009324",
     "status": "completed"
    },
    "tags": []
   },
   "outputs": [],
   "source": [
    "from IPython.display import clear_output\n",
    "from matplotlib import pyplot as plt\n",
    "import numpy as np\n",
    "import collections\n",
    "%matplotlib inline\n",
    "\n",
    "def live_plot(data_dict, figsize=(7,5), title='', win_size: int = 100):\n",
    "    \"\"\"\n",
    "    Función para mostrar en tiempo real el progreso de la optmización bayesiana.\n",
    "    \"\"\"\n",
    "    clear_output(wait=True)\n",
    "    plt.figure(figsize=figsize)\n",
    "    for label,data in data_dict.items():\n",
    "        if len(data) > win_size:\n",
    "            data = data[-win_size:]\n",
    "            iterations = np.arange(len(data))[-win_size:] \n",
    "        else:\n",
    "            iterations = np.arange(len(data))\n",
    "        plt.plot(iterations, data, label=label)\n",
    "    plt.title(title)\n",
    "    plt.grid(True)\n",
    "    plt.xlabel('Iteration')\n",
    "    plt.legend(loc='center left') # the plot evolves to the right\n",
    "    plt.show();"
   ]
  },
  {
   "cell_type": "code",
   "execution_count": 27,
   "id": "e602ae17",
   "metadata": {
    "execution": {
     "iopub.execute_input": "2024-09-18T22:12:33.070161Z",
     "iopub.status.busy": "2024-09-18T22:12:33.069918Z",
     "iopub.status.idle": "2024-09-18T22:12:33.084592Z",
     "shell.execute_reply": "2024-09-18T22:12:33.083815Z"
    },
    "papermill": {
     "duration": 0.032852,
     "end_time": "2024-09-18T22:12:33.086415",
     "exception": false,
     "start_time": "2024-09-18T22:12:33.053563",
     "status": "completed"
    },
    "tags": []
   },
   "outputs": [],
   "source": [
    "data = collections.defaultdict(list)\n",
    "\n",
    "def train_and_evaluate_SVM(\n",
    "    # Data \n",
    "    scaler_choice,\n",
    "    imputer_strategy,\n",
    "    knn_imputer,\n",
    "    knn_imputer_k,\n",
    "\n",
    "    #Modelo SVC\n",
    "    SVC_C,\n",
    "    SVC_gamma,\n",
    "    kernel_SVC='linear'\n",
    "\n",
    ") -> float:\n",
    "    scaler_cls = StandardScaler if scaler_choice > 0.5 else MinMaxScaler\n",
    "    imputer_strategy = \"mean\" if imputer_strategy > 0.5 else \"median\"\n",
    "    if knn_imputer > 0.5:\n",
    "        imputer = KNNImputer(n_neighbors=int(knn_imputer_k))\n",
    "    else:\n",
    "        imputer = SimpleImputer(strategy=imputer_strategy)\n",
    "    \n",
    "    numeric_transformer = Pipeline(\n",
    "        steps=[(\"imputer\", imputer), \n",
    "               (\"scaler\", scaler_cls()),\n",
    "               #(\"LDA_feature\",LDATransformer()) \n",
    "              ]\n",
    "    )\n",
    "    \n",
    "    categorical_transformer = OneHotEncoder(handle_unknown=\"ignore\")\n",
    "    preprocessor = ColumnTransformer(\n",
    "        transformers=[\n",
    "            (\"num\", numeric_transformer, var_numericas),\n",
    "            (\"cat\", categorical_transformer, var_categoricas),\n",
    "        ]\n",
    "    )\n",
    "    \n",
    "    data_pipeline = Pipeline(steps=[\n",
    "        (\"data_processor\", preprocessor),\n",
    "        \n",
    "    ])\n",
    "           \n",
    "    #Model SVM\n",
    "    model = SVC(C=SVC_C, gamma=SVC_gamma, kernel=kernel_SVC, probability=True)\n",
    "    pipeline = add_model(data_pipeline, model)\n",
    "    show_live_plot=True\n",
    "\n",
    "    ## Training protocol\n",
    "    \n",
    "    kf = KFold(n_splits=3, random_state=963, shuffle=True)\n",
    "    \n",
    "    train_fold_metrics = [0.5,0.6,0.65] \n",
    "    val_fold_metrics = [0.4, 0.45,0.47]\n",
    "\n",
    "    # K-Fold cross val\n",
    "    for i, (train_index, test_index) in enumerate(kf.split(X_train)):\n",
    "        #print(f\"Fold number: {i+1}\")\n",
    "        kX_train, kX_val = X_train.iloc[train_index], X_train.iloc[test_index]\n",
    "        ky_train, ky_val = y_train.iloc[train_index], y_train.iloc[test_index]\n",
    "        #print(f\"Training with {kX_train.shape}\")\n",
    "        #print(f\"Validating with {kX_val.shape}\")\n",
    "        pipeline.fit(kX_train, ky_train)\n",
    "        \n",
    "        val_preds = pipeline.predict_proba(kX_val)[:, 1]\n",
    "               \n",
    "        train_preds = pipeline.predict_proba(kX_train)[:, 1]\n",
    "        \n",
    "        ths = np.linspace(0, 1, 1000)\n",
    "        best_th = ths[np.argmax([f1_score(ky_val, val_preds>th) for th in ths])]\n",
    "        best_th\n",
    "        \n",
    "        val_f1 = f1_score(ky_val, val_preds>best_th)\n",
    "        train_f1 = f1_score(ky_train, train_preds>best_th)\n",
    "        \n",
    "        train_fold_metrics.append(train_f1)\n",
    "        val_fold_metrics.append(val_f1)            \n",
    "       \n",
    "    f1_train = np.array(train_fold_metrics)\n",
    "    f1_val = np.array(val_fold_metrics)\n",
    "    \n",
    "    adj_val_f1 = ( f1_val.mean() -  f1_val.std())\n",
    "    adj_train_f1 = ( f1_train.mean() -  f1_train.std())\n",
    "    objective = adj_val_f1 - abs(adj_val_f1 - adj_train_f1)\n",
    "    \n",
    "    print(f\"Validation F1 adjusted score: {adj_val_f1}\")\n",
    "    print(f\"Train F1 adjusted score: {adj_train_f1}\")\n",
    "    print()\n",
    "    \n",
    "    if show_live_plot:\n",
    "        data['train_f1'].append(adj_train_f1)\n",
    "        data['val_f1'].append(adj_val_f1)\n",
    "        data[\"objective\"].append(objective)\n",
    "        live_plot(data)\n",
    "    \n",
    "    return pipeline, objective\n",
    "\n",
    "def target_func(**kwargs):\n",
    "    model, result = train_and_evaluate_SVM(**kwargs)\n",
    "    return result\n"
   ]
  },
  {
   "cell_type": "code",
   "execution_count": 28,
   "id": "a678cec0",
   "metadata": {
    "execution": {
     "iopub.execute_input": "2024-09-18T22:12:33.118452Z",
     "iopub.status.busy": "2024-09-18T22:12:33.118184Z",
     "iopub.status.idle": "2024-09-18T22:12:33.124417Z",
     "shell.execute_reply": "2024-09-18T22:12:33.123567Z"
    },
    "papermill": {
     "duration": 0.024428,
     "end_time": "2024-09-18T22:12:33.126365",
     "exception": false,
     "start_time": "2024-09-18T22:12:33.101937",
     "status": "completed"
    },
    "tags": []
   },
   "outputs": [],
   "source": [
    "pbounds_SVM = dict(\n",
    "    # Data\n",
    "    scaler_choice=(0, 1),\n",
    "    imputer_strategy=(0, 1),\n",
    "    knn_imputer=(0,1),\n",
    "    knn_imputer_k=(3, 10),\n",
    "    SVC_C=(0.001, 0.1),\n",
    "    SVC_gamma=(0,2)\n",
    "   \n",
    ")\n",
    "\n",
    "optimizer_SVM = BayesianOptimization(\n",
    "    f=target_func,\n",
    "    pbounds=pbounds_SVM,\n",
    "    random_state=963,\n",
    "    verbose=2,\n",
    ")\n",
    "\n",
    "\n"
   ]
  },
  {
   "cell_type": "code",
   "execution_count": 29,
   "id": "33627f1b",
   "metadata": {
    "execution": {
     "iopub.execute_input": "2024-09-18T22:12:33.157994Z",
     "iopub.status.busy": "2024-09-18T22:12:33.157709Z",
     "iopub.status.idle": "2024-09-18T22:12:33.161450Z",
     "shell.execute_reply": "2024-09-18T22:12:33.160595Z"
    },
    "papermill": {
     "duration": 0.021571,
     "end_time": "2024-09-18T22:12:33.163299",
     "exception": false,
     "start_time": "2024-09-18T22:12:33.141728",
     "status": "completed"
    },
    "tags": []
   },
   "outputs": [],
   "source": [
    "data_plot = collections.defaultdict(list)"
   ]
  },
  {
   "cell_type": "code",
   "execution_count": 30,
   "id": "8e02572e",
   "metadata": {
    "execution": {
     "iopub.execute_input": "2024-09-18T22:12:33.195084Z",
     "iopub.status.busy": "2024-09-18T22:12:33.194796Z",
     "iopub.status.idle": "2024-09-18T22:34:41.242660Z",
     "shell.execute_reply": "2024-09-18T22:34:41.241715Z"
    },
    "papermill": {
     "duration": 1328.066039,
     "end_time": "2024-09-18T22:34:41.244695",
     "exception": false,
     "start_time": "2024-09-18T22:12:33.178656",
     "status": "completed"
    },
    "tags": []
   },
   "outputs": [
    {
     "data": {
      "image/png": "[encoded data removed]",
      "text/plain": [
       "<Figure size 700x500 with 1 Axes>"
      ]
     },
     "metadata": {},
     "output_type": "display_data"
    },
    {
     "name": "stdout",
     "output_type": "stream",
     "text": [
      "| \u001b[30m7         | \u001b[30m0.4093    | \u001b[30m0.05602   | \u001b[30m0.1917    | \u001b[30m0.6955    | \u001b[30m0.8301    | \u001b[30m3.455     | \u001b[30m0.1659    |\n",
      "=================================================================================================\n"
     ]
    }
   ],
   "source": [
    "optimizer_SVM.maximize(\n",
    "    init_points=2,\n",
    "    n_iter=5,\n",
    ")"
   ]
  },
  {
   "cell_type": "code",
   "execution_count": 31,
   "id": "604b4e98",
   "metadata": {
    "execution": {
     "iopub.execute_input": "2024-09-18T22:34:41.279053Z",
     "iopub.status.busy": "2024-09-18T22:34:41.278467Z",
     "iopub.status.idle": "2024-09-18T22:38:20.715560Z",
     "shell.execute_reply": "2024-09-18T22:38:20.714719Z"
    },
    "papermill": {
     "duration": 219.456434,
     "end_time": "2024-09-18T22:38:20.717585",
     "exception": false,
     "start_time": "2024-09-18T22:34:41.261151",
     "status": "completed"
    },
    "tags": []
   },
   "outputs": [
    {
     "data": {
      "image/png": "[encoded data removed]",
      "text/plain": [
       "<Figure size 700x500 with 1 Axes>"
      ]
     },
     "metadata": {},
     "output_type": "display_data"
    }
   ],
   "source": [
    "best_model_SVM, best_resultSVM = train_and_evaluate_SVM(**optimizer_SVM.max[\"params\"])"
   ]
  },
  {
   "cell_type": "code",
   "execution_count": 32,
   "id": "f93f0ebd",
   "metadata": {
    "execution": {
     "iopub.execute_input": "2024-09-18T22:38:20.752001Z",
     "iopub.status.busy": "2024-09-18T22:38:20.751520Z",
     "iopub.status.idle": "2024-09-18T22:38:25.092340Z",
     "shell.execute_reply": "2024-09-18T22:38:25.091477Z"
    },
    "papermill": {
     "duration": 4.360258,
     "end_time": "2024-09-18T22:38:25.094312",
     "exception": false,
     "start_time": "2024-09-18T22:38:20.734054",
     "status": "completed"
    },
    "tags": []
   },
   "outputs": [
    {
     "data": {
      "text/plain": [
       "0.5418372180158781"
      ]
     },
     "execution_count": 32,
     "metadata": {},
     "output_type": "execute_result"
    }
   ],
   "source": [
    "test_preds_SVM = best_model_SVM.predict_proba(X_test)[:, 1]\n",
    "roc_auc_score(y_test, test_preds_SVM)"
   ]
  },
  {
   "cell_type": "code",
   "execution_count": 33,
   "id": "2e7e2252",
   "metadata": {
    "execution": {
     "iopub.execute_input": "2024-09-18T22:38:25.130598Z",
     "iopub.status.busy": "2024-09-18T22:38:25.129926Z",
     "iopub.status.idle": "2024-09-18T22:38:25.149864Z",
     "shell.execute_reply": "2024-09-18T22:38:25.148982Z"
    },
    "papermill": {
     "duration": 0.039595,
     "end_time": "2024-09-18T22:38:25.151764",
     "exception": false,
     "start_time": "2024-09-18T22:38:25.112169",
     "status": "completed"
    },
    "tags": []
   },
   "outputs": [],
   "source": [
    "data = collections.defaultdict(list)\n",
    "\n",
    "def train_and_evaluate_NN(\n",
    "    # Data \n",
    "    scaler_choice,\n",
    "    imputer_strategy,\n",
    "    knn_imputer,\n",
    "    knn_imputer_k,\n",
    "    #pca_components,\n",
    "    # Model\n",
    "    model_hidden_layer_size_exp,\n",
    "    model_lr_init,\n",
    "    model_alpha,\n",
    "    model_batch_size,\n",
    "    model_max_iter,\n",
    "    #model_solver,\n",
    "    verbose=0,\n",
    "    show_live_plot=True\n",
    "\n",
    ") -> float:\n",
    "    scaler_cls = StandardScaler if scaler_choice > 0.5 else MinMaxScaler\n",
    "    imputer_strategy = \"mean\" if imputer_strategy > 0.5 else \"median\"\n",
    "    if knn_imputer > 0.5:\n",
    "        imputer = KNNImputer(n_neighbors=int(knn_imputer_k))\n",
    "    else:\n",
    "        imputer = SimpleImputer(strategy=imputer_strategy)\n",
    "    \n",
    "    numeric_transformer = Pipeline(\n",
    "        steps=[(\"imputer\", imputer), \n",
    "               (\"scaler\", scaler_cls()),\n",
    "               #(\"LDA_feature\",LDATransformer()) \n",
    "              ]\n",
    "    )\n",
    "    \n",
    "    categorical_transformer = OneHotEncoder(handle_unknown=\"ignore\")\n",
    "    preprocessor = ColumnTransformer(\n",
    "        transformers=[\n",
    "            (\"num\", numeric_transformer, var_numericas),\n",
    "            (\"cat\", categorical_transformer, var_categoricas),\n",
    "        ]\n",
    "    )\n",
    "    \n",
    "    data_pipeline = Pipeline(steps=[\n",
    "        (\"data_processor\", preprocessor),\n",
    "        \n",
    "    ])\n",
    "           \n",
    "    ## Model configuration\n",
    "    \n",
    "    max_exponent = int(model_hidden_layer_size_exp)\n",
    "    if max_exponent<2:\n",
    "        max_exponent=2\n",
    "        \n",
    "    model_kwargs = dict(\n",
    "        hidden_layer_sizes = [2**(n) for n in reversed(range(2, max_exponent+1))], ### Arquitectura\n",
    "        #solver=\"adam\" if model_solver > 0.5 else \"sgd\",\n",
    "        batch_size=2**int(model_batch_size), ## Back Propagation\n",
    "        learning_rate_init=model_lr_init,## Back Propagation\n",
    "        alpha=model_alpha,## Back Propagation\n",
    "        max_iter=int(model_max_iter),\n",
    "        early_stopping=True,\n",
    "        random_state=42,\n",
    "    )\n",
    "    \n",
    "    if verbose:\n",
    "        print(\"MLP Classifier params: \")\n",
    "        pprint(model_kwargs)\n",
    "    \n",
    "    model = MLPClassifier(**model_kwargs)\n",
    "    \n",
    "    pipeline = add_model(data_pipeline, model)\n",
    "    show_live_plot=True\n",
    "\n",
    "    ## Training protocol\n",
    "    \n",
    "    kf = KFold(n_splits=3, random_state=963, shuffle=True)\n",
    "    \n",
    "    train_fold_metrics = [] \n",
    "    val_fold_metrics = []\n",
    "\n",
    "    # K-Fold cross val\n",
    "    for i, (train_index, test_index) in enumerate(kf.split(X_train)):\n",
    "        #print(f\"Fold number: {i+1}\")\n",
    "        kX_train, kX_val = X_train.iloc[train_index], X_train.iloc[test_index]\n",
    "        ky_train, ky_val = y_train.iloc[train_index], y_train.iloc[test_index]\n",
    "        #print(f\"Training with {kX_train.shape}\")\n",
    "        #print(f\"Validating with {kX_val.shape}\")\n",
    "        pipeline.fit(kX_train, ky_train)\n",
    "        \n",
    "        val_preds = pipeline.predict_proba(kX_val)[:, 1]\n",
    "               \n",
    "        train_preds = pipeline.predict_proba(kX_train)[:, 1]\n",
    "        \n",
    "        ths = np.linspace(0, 1, 1000)\n",
    "        best_th = ths[np.argmax([f1_score(ky_val, val_preds>th) for th in ths])]\n",
    "        best_th\n",
    "        \n",
    "        val_f1 = f1_score(ky_val, val_preds>best_th)\n",
    "        train_f1 = f1_score(ky_train, train_preds>best_th)\n",
    "        \n",
    "        train_fold_metrics.append(train_f1)\n",
    "        val_fold_metrics.append(val_f1)            \n",
    "       \n",
    "    f1_train = np.array(train_fold_metrics)\n",
    "    f1_val = np.array(val_fold_metrics)\n",
    "    \n",
    "    adj_val_f1 = ( f1_val.mean() -  f1_val.std())\n",
    "    adj_train_f1 = ( f1_train.mean() -  f1_train.std())\n",
    "    objective = adj_val_f1 - abs(adj_val_f1 - adj_train_f1)\n",
    "    \n",
    "    print(f\"Validation F1 adjusted score: {adj_val_f1}\")\n",
    "    print(f\"Train F1 adjusted score: {adj_train_f1}\")\n",
    "    print()\n",
    "    \n",
    "    if show_live_plot:\n",
    "        data['train_f1'].append(adj_train_f1)\n",
    "        data['val_f1'].append(adj_val_f1)\n",
    "        data[\"objective\"].append(objective)\n",
    "        live_plot(data)\n",
    "    \n",
    "    return pipeline, objective\n",
    "\n",
    "def target_func(**kwargs):\n",
    "    model, result = train_and_evaluate_NN(**kwargs)\n",
    "    return result"
   ]
  },
  {
   "cell_type": "code",
   "execution_count": 34,
   "id": "c6c670ae",
   "metadata": {
    "execution": {
     "iopub.execute_input": "2024-09-18T22:38:25.187310Z",
     "iopub.status.busy": "2024-09-18T22:38:25.186529Z",
     "iopub.status.idle": "2024-09-18T22:38:25.191960Z",
     "shell.execute_reply": "2024-09-18T22:38:25.191140Z"
    },
    "papermill": {
     "duration": 0.025377,
     "end_time": "2024-09-18T22:38:25.193909",
     "exception": false,
     "start_time": "2024-09-18T22:38:25.168532",
     "status": "completed"
    },
    "tags": []
   },
   "outputs": [],
   "source": [
    "pbounds_NN = dict(\n",
    "    # Data\n",
    "    scaler_choice=(0, 1),\n",
    "    imputer_strategy=(0, 1),\n",
    "    knn_imputer=(0,1),\n",
    "    knn_imputer_k=(3, 10),\n",
    "    # Model\n",
    "    #model_solver=(0, 1),\n",
    "    model_hidden_layer_size_exp=(2, 4),\n",
    "    model_lr_init=(0.005, 0.5),\n",
    "    model_alpha=(0.001, 1),\n",
    "    model_batch_size=(3, 7), # from 2**6=64 to 2**12=4096\n",
    "    model_max_iter=(50, 50)\n",
    "   \n",
    ")\n"
   ]
  },
  {
   "cell_type": "code",
   "execution_count": 35,
   "id": "ee76d7ee",
   "metadata": {
    "execution": {
     "iopub.execute_input": "2024-09-18T22:38:25.228900Z",
     "iopub.status.busy": "2024-09-18T22:38:25.228268Z",
     "iopub.status.idle": "2024-09-18T22:38:25.232457Z",
     "shell.execute_reply": "2024-09-18T22:38:25.231627Z"
    },
    "papermill": {
     "duration": 0.023772,
     "end_time": "2024-09-18T22:38:25.234413",
     "exception": false,
     "start_time": "2024-09-18T22:38:25.210641",
     "status": "completed"
    },
    "tags": []
   },
   "outputs": [],
   "source": [
    "data_plot = collections.defaultdict(list)"
   ]
  },
  {
   "cell_type": "code",
   "execution_count": 36,
   "id": "f8f45059",
   "metadata": {
    "execution": {
     "iopub.execute_input": "2024-09-18T22:38:25.268486Z",
     "iopub.status.busy": "2024-09-18T22:38:25.268228Z",
     "iopub.status.idle": "2024-09-18T22:38:25.273359Z",
     "shell.execute_reply": "2024-09-18T22:38:25.272562Z"
    },
    "papermill": {
     "duration": 0.024234,
     "end_time": "2024-09-18T22:38:25.275303",
     "exception": false,
     "start_time": "2024-09-18T22:38:25.251069",
     "status": "completed"
    },
    "tags": []
   },
   "outputs": [],
   "source": [
    "optimizer = BayesianOptimization(\n",
    "    f=target_func,\n",
    "    pbounds=pbounds_NN,\n",
    "    random_state=963,\n",
    "    verbose=2,\n",
    ")"
   ]
  },
  {
   "cell_type": "code",
   "execution_count": 37,
   "id": "76df323e",
   "metadata": {
    "execution": {
     "iopub.execute_input": "2024-09-18T22:38:25.309659Z",
     "iopub.status.busy": "2024-09-18T22:38:25.309013Z",
     "iopub.status.idle": "2024-09-18T22:49:38.049003Z",
     "shell.execute_reply": "2024-09-18T22:49:38.048157Z"
    },
    "papermill": {
     "duration": 672.760382,
     "end_time": "2024-09-18T22:49:38.052136",
     "exception": false,
     "start_time": "2024-09-18T22:38:25.291754",
     "status": "completed"
    },
    "tags": []
   },
   "outputs": [
    {
     "data": {
      "image/png": "[encoded data removed]",
      "text/plain": [
       "<Figure size 700x500 with 1 Axes>"
      ]
     },
     "metadata": {},
     "output_type": "display_data"
    },
    {
     "name": "stdout",
     "output_type": "stream",
     "text": [
      "| \u001b[30m10        | \u001b[30m0.4283    | \u001b[30m0.07912   | \u001b[30m0.6014    | \u001b[30m5.9       | \u001b[30m0.4963    | \u001b[30m5.905     | \u001b[30m2.422     | \u001b[30m0.2698    | \u001b[30m50.0      | \u001b[30m0.8471    |\n",
      "=====================================================================================================================================\n"
     ]
    }
   ],
   "source": [
    "#logger = JSONLogger(path=\"./logs.json\")\n",
    "#optimizer.subscribe(Events.OPTIMIZATION_STEP, logger)\n",
    "\n",
    "optimizer.maximize(\n",
    "    n_iter=5,\n",
    ")"
   ]
  },
  {
   "cell_type": "code",
   "execution_count": 38,
   "id": "0a9cc7f9",
   "metadata": {
    "execution": {
     "iopub.execute_input": "2024-09-18T22:49:38.089017Z",
     "iopub.status.busy": "2024-09-18T22:49:38.088179Z",
     "iopub.status.idle": "2024-09-18T22:51:34.131900Z",
     "shell.execute_reply": "2024-09-18T22:51:34.130878Z"
    },
    "papermill": {
     "duration": 116.064266,
     "end_time": "2024-09-18T22:51:34.134018",
     "exception": false,
     "start_time": "2024-09-18T22:49:38.069752",
     "status": "completed"
    },
    "tags": []
   },
   "outputs": [
    {
     "data": {
      "image/png": "[encoded data removed]",
      "text/plain": [
       "<Figure size 700x500 with 1 Axes>"
      ]
     },
     "metadata": {},
     "output_type": "display_data"
    }
   ],
   "source": [
    "best_model_NN, best_result_NN = train_and_evaluate_NN(**optimizer.max[\"params\"])"
   ]
  },
  {
   "cell_type": "code",
   "execution_count": 39,
   "id": "bdc1168d",
   "metadata": {
    "execution": {
     "iopub.execute_input": "2024-09-18T22:51:34.172089Z",
     "iopub.status.busy": "2024-09-18T22:51:34.171763Z",
     "iopub.status.idle": "2024-09-18T22:51:37.394784Z",
     "shell.execute_reply": "2024-09-18T22:51:37.393490Z"
    },
    "papermill": {
     "duration": 3.245908,
     "end_time": "2024-09-18T22:51:37.398609",
     "exception": false,
     "start_time": "2024-09-18T22:51:34.152701",
     "status": "completed"
    },
    "tags": []
   },
   "outputs": [
    {
     "data": {
      "text/plain": [
       "0.5587328967532993"
      ]
     },
     "execution_count": 39,
     "metadata": {},
     "output_type": "execute_result"
    }
   ],
   "source": [
    "test_preds_NN = best_model_NN.predict_proba(X_test)[:, 1]\n",
    "roc_auc_score(y_test, test_preds_NN)"
   ]
  },
  {
   "cell_type": "code",
   "execution_count": 40,
   "id": "97469800",
   "metadata": {
    "execution": {
     "iopub.execute_input": "2024-09-18T22:51:37.477903Z",
     "iopub.status.busy": "2024-09-18T22:51:37.477325Z",
     "iopub.status.idle": "2024-09-18T22:51:37.483330Z",
     "shell.execute_reply": "2024-09-18T22:51:37.482215Z"
    },
    "papermill": {
     "duration": 0.049822,
     "end_time": "2024-09-18T22:51:37.487013",
     "exception": false,
     "start_time": "2024-09-18T22:51:37.437191",
     "status": "completed"
    },
    "tags": []
   },
   "outputs": [],
   "source": [
    "best_model = best_model_NN"
   ]
  },
  {
   "cell_type": "code",
   "execution_count": 41,
   "id": "fbcb93d4",
   "metadata": {
    "execution": {
     "iopub.execute_input": "2024-09-18T22:51:37.540278Z",
     "iopub.status.busy": "2024-09-18T22:51:37.539918Z",
     "iopub.status.idle": "2024-09-18T22:52:20.885768Z",
     "shell.execute_reply": "2024-09-18T22:52:20.884938Z"
    },
    "papermill": {
     "duration": 43.385804,
     "end_time": "2024-09-18T22:52:20.906240",
     "exception": false,
     "start_time": "2024-09-18T22:51:37.520436",
     "status": "completed"
    },
    "tags": []
   },
   "outputs": [
    {
     "data": {
      "text/html": [
       "<style>#sk-container-id-3 {color: black;background-color: white;}#sk-container-id-3 pre{padding: 0;}#sk-container-id-3 div.sk-toggleable {background-color: white;}#sk-container-id-3 label.sk-toggleable__label {cursor: pointer;display: block;width: 100%;margin-bottom: 0;padding: 0.3em;box-sizing: border-box;text-align: center;}#sk-container-id-3 label.sk-toggleable__label-arrow:before {content: \"▸\";float: left;margin-right: 0.25em;color: #696969;}#sk-container-id-3 label.sk-toggleable__label-arrow:hover:before {color: black;}#sk-container-id-3 div.sk-estimator:hover label.sk-toggleable__label-arrow:before {color: black;}#sk-container-id-3 div.sk-toggleable__content {max-height: 0;max-width: 0;overflow: hidden;text-align: left;background-color: #f0f8ff;}#sk-container-id-3 div.sk-toggleable__content pre {margin: 0.2em;color: black;border-radius: 0.25em;background-color: #f0f8ff;}#sk-container-id-3 input.sk-toggleable__control:checked~div.sk-toggleable__content {max-height: 200px;max-width: 100%;overflow: auto;}#sk-container-id-3 input.sk-toggleable__control:checked~label.sk-toggleable__label-arrow:before {content: \"▾\";}#sk-container-id-3 div.sk-estimator input.sk-toggleable__control:checked~label.sk-toggleable__label {background-color: #d4ebff;}#sk-container-id-3 div.sk-label input.sk-toggleable__control:checked~label.sk-toggleable__label {background-color: #d4ebff;}#sk-container-id-3 input.sk-hidden--visually {border: 0;clip: rect(1px 1px 1px 1px);clip: rect(1px, 1px, 1px, 1px);height: 1px;margin: -1px;overflow: hidden;padding: 0;position: absolute;width: 1px;}#sk-container-id-3 div.sk-estimator {font-family: monospace;background-color: #f0f8ff;border: 1px dotted black;border-radius: 0.25em;box-sizing: border-box;margin-bottom: 0.5em;}#sk-container-id-3 div.sk-estimator:hover {background-color: #d4ebff;}#sk-container-id-3 div.sk-parallel-item::after {content: \"\";width: 100%;border-bottom: 1px solid gray;flex-grow: 1;}#sk-container-id-3 div.sk-label:hover label.sk-toggleable__label {background-color: #d4ebff;}#sk-container-id-3 div.sk-serial::before {content: \"\";position: absolute;border-left: 1px solid gray;box-sizing: border-box;top: 0;bottom: 0;left: 50%;z-index: 0;}#sk-container-id-3 div.sk-serial {display: flex;flex-direction: column;align-items: center;background-color: white;padding-right: 0.2em;padding-left: 0.2em;position: relative;}#sk-container-id-3 div.sk-item {position: relative;z-index: 1;}#sk-container-id-3 div.sk-parallel {display: flex;align-items: stretch;justify-content: center;background-color: white;position: relative;}#sk-container-id-3 div.sk-item::before, #sk-container-id-3 div.sk-parallel-item::before {content: \"\";position: absolute;border-left: 1px solid gray;box-sizing: border-box;top: 0;bottom: 0;left: 50%;z-index: -1;}#sk-container-id-3 div.sk-parallel-item {display: flex;flex-direction: column;z-index: 1;position: relative;background-color: white;}#sk-container-id-3 div.sk-parallel-item:first-child::after {align-self: flex-end;width: 50%;}#sk-container-id-3 div.sk-parallel-item:last-child::after {align-self: flex-start;width: 50%;}#sk-container-id-3 div.sk-parallel-item:only-child::after {width: 0;}#sk-container-id-3 div.sk-dashed-wrapped {border: 1px dashed gray;margin: 0 0.4em 0.5em 0.4em;box-sizing: border-box;padding-bottom: 0.4em;background-color: white;}#sk-container-id-3 div.sk-label label {font-family: monospace;font-weight: bold;display: inline-block;line-height: 1.2em;}#sk-container-id-3 div.sk-label-container {text-align: center;}#sk-container-id-3 div.sk-container {/* jupyter's `normalize.less` sets `[hidden] { display: none; }` but bootstrap.min.css set `[hidden] { display: none !important; }` so we also need the `!important` here to be able to override the default hidden behavior on the sphinx rendered scikit-learn.org. See: https://github.com/scikit-learn/scikit-learn/issues/21755 */display: inline-block !important;position: relative;}#sk-container-id-3 div.sk-text-repr-fallback {display: none;}</style><div id=\"sk-container-id-3\" class=\"sk-top-container\"><div class=\"sk-text-repr-fallback\"><pre>Pipeline(steps=[(&#x27;data_pipeline&#x27;,\n",
       "                 Pipeline(steps=[(&#x27;data_processor&#x27;,\n",
       "                                  ColumnTransformer(transformers=[(&#x27;num&#x27;,\n",
       "                                                                   Pipeline(steps=[(&#x27;imputer&#x27;,\n",
       "                                                                                    KNNImputer(n_neighbors=8)),\n",
       "                                                                                   (&#x27;scaler&#x27;,\n",
       "                                                                                    MinMaxScaler())]),\n",
       "                                                                   Index([&#x27;MEDICAMENTOS&#x27;, &#x27;MEDICINA ESPECIALIZADA&#x27;, &#x27;MEDICINA GENERAL&#x27;,\n",
       "       &#x27;Cant_gr_flia&#x27;, &#x27;Cant_riesgos_flia_mean&#x27;, &#x27;min_Tiempo_CP_Fliar&#x27;,\n",
       "       &#x27;Cant_Fliar_CP&#x27;, &#x27;psa_max_gr_flia&#x27;, &#x27;p...\n",
       "       &#x27;HIPERTENSION_FAMILIAR&#x27;, &#x27;DIABETES&#x27;, &#x27;DIABETES_FAMILIAR&#x27;, &#x27;CORONARIOS&#x27;,\n",
       "       &#x27;CORONARIOS_FAMILIAR&#x27;, &#x27;CEREBRAL&#x27;, &#x27;CEREBRAL_FAMILIAR&#x27;,\n",
       "       &#x27;ENFERMEDAD_RENAL&#x27;, &#x27;ENFERMEDAD_RENAL_FAMILIAR&#x27;,\n",
       "       &#x27;OTROS_ANTECEDENTES_VASCULARES&#x27;],\n",
       "      dtype=&#x27;object&#x27;))]))])),\n",
       "                (&#x27;model&#x27;,\n",
       "                 MLPClassifier(alpha=0.10642794547977139, batch_size=16,\n",
       "                               early_stopping=True, hidden_layer_sizes=[8, 4],\n",
       "                               learning_rate_init=0.008698159126584545,\n",
       "                               max_iter=50, random_state=42))])</pre><b>In a Jupyter environment, please rerun this cell to show the HTML representation or trust the notebook. <br />On GitHub, the HTML representation is unable to render, please try loading this page with nbviewer.org.</b></div><div class=\"sk-container\" hidden><div class=\"sk-item sk-dashed-wrapped\"><div class=\"sk-label-container\"><div class=\"sk-label sk-toggleable\"><input class=\"sk-toggleable__control sk-hidden--visually\" id=\"sk-estimator-id-9\" type=\"checkbox\" ><label for=\"sk-estimator-id-9\" class=\"sk-toggleable__label sk-toggleable__label-arrow\">Pipeline</label><div class=\"sk-toggleable__content\"><pre>Pipeline(steps=[(&#x27;data_pipeline&#x27;,\n",
       "                 Pipeline(steps=[(&#x27;data_processor&#x27;,\n",
       "                                  ColumnTransformer(transformers=[(&#x27;num&#x27;,\n",
       "                                                                   Pipeline(steps=[(&#x27;imputer&#x27;,\n",
       "                                                                                    KNNImputer(n_neighbors=8)),\n",
       "                                                                                   (&#x27;scaler&#x27;,\n",
       "                                                                                    MinMaxScaler())]),\n",
       "                                                                   Index([&#x27;MEDICAMENTOS&#x27;, &#x27;MEDICINA ESPECIALIZADA&#x27;, &#x27;MEDICINA GENERAL&#x27;,\n",
       "       &#x27;Cant_gr_flia&#x27;, &#x27;Cant_riesgos_flia_mean&#x27;, &#x27;min_Tiempo_CP_Fliar&#x27;,\n",
       "       &#x27;Cant_Fliar_CP&#x27;, &#x27;psa_max_gr_flia&#x27;, &#x27;p...\n",
       "       &#x27;HIPERTENSION_FAMILIAR&#x27;, &#x27;DIABETES&#x27;, &#x27;DIABETES_FAMILIAR&#x27;, &#x27;CORONARIOS&#x27;,\n",
       "       &#x27;CORONARIOS_FAMILIAR&#x27;, &#x27;CEREBRAL&#x27;, &#x27;CEREBRAL_FAMILIAR&#x27;,\n",
       "       &#x27;ENFERMEDAD_RENAL&#x27;, &#x27;ENFERMEDAD_RENAL_FAMILIAR&#x27;,\n",
       "       &#x27;OTROS_ANTECEDENTES_VASCULARES&#x27;],\n",
       "      dtype=&#x27;object&#x27;))]))])),\n",
       "                (&#x27;model&#x27;,\n",
       "                 MLPClassifier(alpha=0.10642794547977139, batch_size=16,\n",
       "                               early_stopping=True, hidden_layer_sizes=[8, 4],\n",
       "                               learning_rate_init=0.008698159126584545,\n",
       "                               max_iter=50, random_state=42))])</pre></div></div></div><div class=\"sk-serial\"><div class=\"sk-item\"><div class=\"sk-label-container\"><div class=\"sk-label sk-toggleable\"><input class=\"sk-toggleable__control sk-hidden--visually\" id=\"sk-estimator-id-10\" type=\"checkbox\" ><label for=\"sk-estimator-id-10\" class=\"sk-toggleable__label sk-toggleable__label-arrow\">data_pipeline: Pipeline</label><div class=\"sk-toggleable__content\"><pre>Pipeline(steps=[(&#x27;data_processor&#x27;,\n",
       "                 ColumnTransformer(transformers=[(&#x27;num&#x27;,\n",
       "                                                  Pipeline(steps=[(&#x27;imputer&#x27;,\n",
       "                                                                   KNNImputer(n_neighbors=8)),\n",
       "                                                                  (&#x27;scaler&#x27;,\n",
       "                                                                   MinMaxScaler())]),\n",
       "                                                  Index([&#x27;MEDICAMENTOS&#x27;, &#x27;MEDICINA ESPECIALIZADA&#x27;, &#x27;MEDICINA GENERAL&#x27;,\n",
       "       &#x27;Cant_gr_flia&#x27;, &#x27;Cant_riesgos_flia_mean&#x27;, &#x27;min_Tiempo_CP_Fliar&#x27;,\n",
       "       &#x27;Cant_Fliar_CP&#x27;, &#x27;psa_max_gr_flia&#x27;, &#x27;psa_min_gr_flia&#x27;,\n",
       "       &#x27;Cant_Fliar_riesg...\n",
       "                                                  Index([&#x27;ESTADO_CIVI&#x27;, &#x27;PROGRAMA&#x27;, &#x27;estrato&#x27;, &#x27;IMC&#x27;, &#x27;AGRUPACION_SISTOLICA&#x27;,\n",
       "       &#x27;AGRUPACION_DIASTOLICA&#x27;, &#x27;parentesco&#x27;, &#x27;CANCER_MAMA_FAMILIAR&#x27;,\n",
       "       &#x27;CANCER_OTRO_SITIO&#x27;, &#x27;CANCER_OTRO_SITIO_FAMILIAR&#x27;, &#x27;HIPERTENSION&#x27;,\n",
       "       &#x27;HIPERTENSION_FAMILIAR&#x27;, &#x27;DIABETES&#x27;, &#x27;DIABETES_FAMILIAR&#x27;, &#x27;CORONARIOS&#x27;,\n",
       "       &#x27;CORONARIOS_FAMILIAR&#x27;, &#x27;CEREBRAL&#x27;, &#x27;CEREBRAL_FAMILIAR&#x27;,\n",
       "       &#x27;ENFERMEDAD_RENAL&#x27;, &#x27;ENFERMEDAD_RENAL_FAMILIAR&#x27;,\n",
       "       &#x27;OTROS_ANTECEDENTES_VASCULARES&#x27;],\n",
       "      dtype=&#x27;object&#x27;))]))])</pre></div></div></div><div class=\"sk-serial\"><div class=\"sk-item sk-dashed-wrapped\"><div class=\"sk-label-container\"><div class=\"sk-label sk-toggleable\"><input class=\"sk-toggleable__control sk-hidden--visually\" id=\"sk-estimator-id-11\" type=\"checkbox\" ><label for=\"sk-estimator-id-11\" class=\"sk-toggleable__label sk-toggleable__label-arrow\">data_processor: ColumnTransformer</label><div class=\"sk-toggleable__content\"><pre>ColumnTransformer(transformers=[(&#x27;num&#x27;,\n",
       "                                 Pipeline(steps=[(&#x27;imputer&#x27;,\n",
       "                                                  KNNImputer(n_neighbors=8)),\n",
       "                                                 (&#x27;scaler&#x27;, MinMaxScaler())]),\n",
       "                                 Index([&#x27;MEDICAMENTOS&#x27;, &#x27;MEDICINA ESPECIALIZADA&#x27;, &#x27;MEDICINA GENERAL&#x27;,\n",
       "       &#x27;Cant_gr_flia&#x27;, &#x27;Cant_riesgos_flia_mean&#x27;, &#x27;min_Tiempo_CP_Fliar&#x27;,\n",
       "       &#x27;Cant_Fliar_CP&#x27;, &#x27;psa_max_gr_flia&#x27;, &#x27;psa_min_gr_flia&#x27;,\n",
       "       &#x27;Cant_Fliar_riesgos&#x27;, &#x27;cantidad_serv_flia&#x27;, &#x27;Pendient...\n",
       "                                 Index([&#x27;ESTADO_CIVI&#x27;, &#x27;PROGRAMA&#x27;, &#x27;estrato&#x27;, &#x27;IMC&#x27;, &#x27;AGRUPACION_SISTOLICA&#x27;,\n",
       "       &#x27;AGRUPACION_DIASTOLICA&#x27;, &#x27;parentesco&#x27;, &#x27;CANCER_MAMA_FAMILIAR&#x27;,\n",
       "       &#x27;CANCER_OTRO_SITIO&#x27;, &#x27;CANCER_OTRO_SITIO_FAMILIAR&#x27;, &#x27;HIPERTENSION&#x27;,\n",
       "       &#x27;HIPERTENSION_FAMILIAR&#x27;, &#x27;DIABETES&#x27;, &#x27;DIABETES_FAMILIAR&#x27;, &#x27;CORONARIOS&#x27;,\n",
       "       &#x27;CORONARIOS_FAMILIAR&#x27;, &#x27;CEREBRAL&#x27;, &#x27;CEREBRAL_FAMILIAR&#x27;,\n",
       "       &#x27;ENFERMEDAD_RENAL&#x27;, &#x27;ENFERMEDAD_RENAL_FAMILIAR&#x27;,\n",
       "       &#x27;OTROS_ANTECEDENTES_VASCULARES&#x27;],\n",
       "      dtype=&#x27;object&#x27;))])</pre></div></div></div><div class=\"sk-parallel\"><div class=\"sk-parallel-item\"><div class=\"sk-item\"><div class=\"sk-label-container\"><div class=\"sk-label sk-toggleable\"><input class=\"sk-toggleable__control sk-hidden--visually\" id=\"sk-estimator-id-12\" type=\"checkbox\" ><label for=\"sk-estimator-id-12\" class=\"sk-toggleable__label sk-toggleable__label-arrow\">num</label><div class=\"sk-toggleable__content\"><pre>Index([&#x27;MEDICAMENTOS&#x27;, &#x27;MEDICINA ESPECIALIZADA&#x27;, &#x27;MEDICINA GENERAL&#x27;,\n",
       "       &#x27;Cant_gr_flia&#x27;, &#x27;Cant_riesgos_flia_mean&#x27;, &#x27;min_Tiempo_CP_Fliar&#x27;,\n",
       "       &#x27;Cant_Fliar_CP&#x27;, &#x27;psa_max_gr_flia&#x27;, &#x27;psa_min_gr_flia&#x27;,\n",
       "       &#x27;Cant_Fliar_riesgos&#x27;, &#x27;cantidad_serv_flia&#x27;, &#x27;Pendiente_flia&#x27;,\n",
       "       &#x27;Intercepto_flia&#x27;, &#x27;Promedio_costo_flia&#x27;, &#x27;EDAD&#x27;, &#x27;RIESGOS&#x27;,\n",
       "       &#x27;CANTIDAD_SERVICIOS&#x27;, &#x27;PERDIDA_DE_PESO&#x27;, &#x27;TIEMPO_ULTIMA_CITA&#x27;,\n",
       "       &#x27;conteo_dx_diferentes&#x27;, &#x27;TIEMPO_AFILIACION&#x27;, &#x27;Pendiente&#x27;, &#x27;Intercepto&#x27;,\n",
       "       &#x27;Promedio_costo&#x27;],\n",
       "      dtype=&#x27;object&#x27;)</pre></div></div></div><div class=\"sk-serial\"><div class=\"sk-item\"><div class=\"sk-serial\"><div class=\"sk-item\"><div class=\"sk-estimator sk-toggleable\"><input class=\"sk-toggleable__control sk-hidden--visually\" id=\"sk-estimator-id-13\" type=\"checkbox\" ><label for=\"sk-estimator-id-13\" class=\"sk-toggleable__label sk-toggleable__label-arrow\">KNNImputer</label><div class=\"sk-toggleable__content\"><pre>KNNImputer(n_neighbors=8)</pre></div></div></div><div class=\"sk-item\"><div class=\"sk-estimator sk-toggleable\"><input class=\"sk-toggleable__control sk-hidden--visually\" id=\"sk-estimator-id-14\" type=\"checkbox\" ><label for=\"sk-estimator-id-14\" class=\"sk-toggleable__label sk-toggleable__label-arrow\">MinMaxScaler</label><div class=\"sk-toggleable__content\"><pre>MinMaxScaler()</pre></div></div></div></div></div></div></div></div><div class=\"sk-parallel-item\"><div class=\"sk-item\"><div class=\"sk-label-container\"><div class=\"sk-label sk-toggleable\"><input class=\"sk-toggleable__control sk-hidden--visually\" id=\"sk-estimator-id-15\" type=\"checkbox\" ><label for=\"sk-estimator-id-15\" class=\"sk-toggleable__label sk-toggleable__label-arrow\">cat</label><div class=\"sk-toggleable__content\"><pre>Index([&#x27;ESTADO_CIVI&#x27;, &#x27;PROGRAMA&#x27;, &#x27;estrato&#x27;, &#x27;IMC&#x27;, &#x27;AGRUPACION_SISTOLICA&#x27;,\n",
       "       &#x27;AGRUPACION_DIASTOLICA&#x27;, &#x27;parentesco&#x27;, &#x27;CANCER_MAMA_FAMILIAR&#x27;,\n",
       "       &#x27;CANCER_OTRO_SITIO&#x27;, &#x27;CANCER_OTRO_SITIO_FAMILIAR&#x27;, &#x27;HIPERTENSION&#x27;,\n",
       "       &#x27;HIPERTENSION_FAMILIAR&#x27;, &#x27;DIABETES&#x27;, &#x27;DIABETES_FAMILIAR&#x27;, &#x27;CORONARIOS&#x27;,\n",
       "       &#x27;CORONARIOS_FAMILIAR&#x27;, &#x27;CEREBRAL&#x27;, &#x27;CEREBRAL_FAMILIAR&#x27;,\n",
       "       &#x27;ENFERMEDAD_RENAL&#x27;, &#x27;ENFERMEDAD_RENAL_FAMILIAR&#x27;,\n",
       "       &#x27;OTROS_ANTECEDENTES_VASCULARES&#x27;],\n",
       "      dtype=&#x27;object&#x27;)</pre></div></div></div><div class=\"sk-serial\"><div class=\"sk-item\"><div class=\"sk-estimator sk-toggleable\"><input class=\"sk-toggleable__control sk-hidden--visually\" id=\"sk-estimator-id-16\" type=\"checkbox\" ><label for=\"sk-estimator-id-16\" class=\"sk-toggleable__label sk-toggleable__label-arrow\">OneHotEncoder</label><div class=\"sk-toggleable__content\"><pre>OneHotEncoder(handle_unknown=&#x27;ignore&#x27;)</pre></div></div></div></div></div></div></div></div></div></div><div class=\"sk-item\"><div class=\"sk-estimator sk-toggleable\"><input class=\"sk-toggleable__control sk-hidden--visually\" id=\"sk-estimator-id-17\" type=\"checkbox\" ><label for=\"sk-estimator-id-17\" class=\"sk-toggleable__label sk-toggleable__label-arrow\">MLPClassifier</label><div class=\"sk-toggleable__content\"><pre>MLPClassifier(alpha=0.10642794547977139, batch_size=16, early_stopping=True,\n",
       "              hidden_layer_sizes=[8, 4],\n",
       "              learning_rate_init=0.008698159126584545, max_iter=50,\n",
       "              random_state=42)</pre></div></div></div></div></div></div></div>"
      ],
      "text/plain": [
       "Pipeline(steps=[('data_pipeline',\n",
       "                 Pipeline(steps=[('data_processor',\n",
       "                                  ColumnTransformer(transformers=[('num',\n",
       "                                                                   Pipeline(steps=[('imputer',\n",
       "                                                                                    KNNImputer(n_neighbors=8)),\n",
       "                                                                                   ('scaler',\n",
       "                                                                                    MinMaxScaler())]),\n",
       "                                                                   Index(['MEDICAMENTOS', 'MEDICINA ESPECIALIZADA', 'MEDICINA GENERAL',\n",
       "       'Cant_gr_flia', 'Cant_riesgos_flia_mean', 'min_Tiempo_CP_Fliar',\n",
       "       'Cant_Fliar_CP', 'psa_max_gr_flia', 'p...\n",
       "       'HIPERTENSION_FAMILIAR', 'DIABETES', 'DIABETES_FAMILIAR', 'CORONARIOS',\n",
       "       'CORONARIOS_FAMILIAR', 'CEREBRAL', 'CEREBRAL_FAMILIAR',\n",
       "       'ENFERMEDAD_RENAL', 'ENFERMEDAD_RENAL_FAMILIAR',\n",
       "       'OTROS_ANTECEDENTES_VASCULARES'],\n",
       "      dtype='object'))]))])),\n",
       "                ('model',\n",
       "                 MLPClassifier(alpha=0.10642794547977139, batch_size=16,\n",
       "                               early_stopping=True, hidden_layer_sizes=[8, 4],\n",
       "                               learning_rate_init=0.008698159126584545,\n",
       "                               max_iter=50, random_state=42))])"
      ]
     },
     "execution_count": 41,
     "metadata": {},
     "output_type": "execute_result"
    }
   ],
   "source": [
    "best_model.fit(X, y)"
   ]
  },
  {
   "cell_type": "code",
   "execution_count": 42,
   "id": "be9578be",
   "metadata": {
    "execution": {
     "iopub.execute_input": "2024-09-18T22:52:20.945626Z",
     "iopub.status.busy": "2024-09-18T22:52:20.944654Z",
     "iopub.status.idle": "2024-09-18T22:52:20.955297Z",
     "shell.execute_reply": "2024-09-18T22:52:20.954578Z"
    },
    "papermill": {
     "duration": 0.032237,
     "end_time": "2024-09-18T22:52:20.957285",
     "exception": false,
     "start_time": "2024-09-18T22:52:20.925048",
     "status": "completed"
    },
    "tags": []
   },
   "outputs": [],
   "source": [
    "with open(\"best_model_NN.pkl\", \"wb\") as f:\n",
    "    pickle.dump(best_model, f)"
   ]
  },
  {
   "cell_type": "code",
   "execution_count": 43,
   "id": "baace0d8",
   "metadata": {
    "execution": {
     "iopub.execute_input": "2024-09-18T22:52:20.996531Z",
     "iopub.status.busy": "2024-09-18T22:52:20.996171Z",
     "iopub.status.idle": "2024-09-18T22:52:58.777430Z",
     "shell.execute_reply": "2024-09-18T22:52:58.776474Z"
    },
    "papermill": {
     "duration": 37.822796,
     "end_time": "2024-09-18T22:52:58.799149",
     "exception": false,
     "start_time": "2024-09-18T22:52:20.976353",
     "status": "completed"
    },
    "tags": []
   },
   "outputs": [
    {
     "data": {
      "text/plain": [
       "0.2932932932932933"
      ]
     },
     "execution_count": 43,
     "metadata": {},
     "output_type": "execute_result"
    }
   ],
   "source": [
    "test_preds = best_model.predict_proba(X_test)[:, 1]\n",
    "train_preds = best_model.predict_proba(X_train)[:, 1]\n",
    "ths = np.linspace(0, 1, 1000)\n",
    "best_th = ths[np.argmax([f1_score(y_test, test_preds>th) for th in ths])]\n",
    "best_th"
   ]
  },
  {
   "cell_type": "code",
   "execution_count": 44,
   "id": "d95df387",
   "metadata": {
    "execution": {
     "iopub.execute_input": "2024-09-18T22:52:58.837399Z",
     "iopub.status.busy": "2024-09-18T22:52:58.837078Z",
     "iopub.status.idle": "2024-09-18T22:52:58.851617Z",
     "shell.execute_reply": "2024-09-18T22:52:58.850774Z"
    },
    "papermill": {
     "duration": 0.03572,
     "end_time": "2024-09-18T22:52:58.853411",
     "exception": false,
     "start_time": "2024-09-18T22:52:58.817691",
     "status": "completed"
    },
    "tags": []
   },
   "outputs": [
    {
     "name": "stdout",
     "output_type": "stream",
     "text": [
      "Train f1: 0.448031529076349\n",
      "Test f1: 0.4542675758288267\n"
     ]
    }
   ],
   "source": [
    "test_f1 = f1_score(y_test, test_preds>best_th)\n",
    "train_f1 = f1_score(y_train, train_preds>best_th)\n",
    "print(f\"Train f1: {train_f1}\")\n",
    "print(f\"Test f1: {test_f1}\")"
   ]
  },
  {
   "cell_type": "code",
   "execution_count": 45,
   "id": "2e4ecfc1",
   "metadata": {
    "execution": {
     "iopub.execute_input": "2024-09-18T22:52:58.891935Z",
     "iopub.status.busy": "2024-09-18T22:52:58.891630Z",
     "iopub.status.idle": "2024-09-18T22:52:59.232077Z",
     "shell.execute_reply": "2024-09-18T22:52:59.231244Z"
    },
    "papermill": {
     "duration": 0.362005,
     "end_time": "2024-09-18T22:52:59.234084",
     "exception": false,
     "start_time": "2024-09-18T22:52:58.872079",
     "status": "completed"
    },
    "tags": []
   },
   "outputs": [
    {
     "data": {
      "image/png": "[encoded data removed]",
      "text/plain": [
       "<Figure size 640x480 with 1 Axes>"
      ]
     },
     "metadata": {},
     "output_type": "display_data"
    }
   ],
   "source": [
    "plt.hist(test_preds, bins=100)\n",
    "plt.show()"
   ]
  },
  {
   "cell_type": "markdown",
   "id": "ebb4aaf8",
   "metadata": {
    "papermill": {
     "duration": 0.018677,
     "end_time": "2024-09-18T22:52:59.272038",
     "exception": false,
     "start_time": "2024-09-18T22:52:59.253361",
     "status": "completed"
    },
    "tags": []
   },
   "source": [
    "# Submission"
   ]
  },
  {
   "cell_type": "code",
   "execution_count": 46,
   "id": "e45e3257",
   "metadata": {
    "execution": {
     "iopub.execute_input": "2024-09-18T22:52:59.311489Z",
     "iopub.status.busy": "2024-09-18T22:52:59.310788Z",
     "iopub.status.idle": "2024-09-18T22:53:14.336622Z",
     "shell.execute_reply": "2024-09-18T22:53:14.335436Z"
    },
    "papermill": {
     "duration": 15.048567,
     "end_time": "2024-09-18T22:53:14.339714",
     "exception": false,
     "start_time": "2024-09-18T22:52:59.291147",
     "status": "completed"
    },
    "tags": []
   },
   "outputs": [],
   "source": [
    "test_df = pd.read_parquet(osp.join(DATA_DIR, \"df_test.parquet\"))\n",
    "submission_pred = best_model.predict_proba(test_df)[:, 1]\n",
    "#submission_pred_bool = submission_pred>best_th\n",
    "#submission_pred_int = [int(item) for item in submission_pred_bool]\n",
    "submission = pd.DataFrame(data=dict(ID=test_df.index, Target=submission_pred))"
   ]
  },
  {
   "cell_type": "code",
   "execution_count": 47,
   "id": "7c1fa4ed",
   "metadata": {
    "execution": {
     "iopub.execute_input": "2024-09-18T22:53:14.405436Z",
     "iopub.status.busy": "2024-09-18T22:53:14.404721Z",
     "iopub.status.idle": "2024-09-18T22:53:14.469899Z",
     "shell.execute_reply": "2024-09-18T22:53:14.469182Z"
    },
    "papermill": {
     "duration": 0.097868,
     "end_time": "2024-09-18T22:53:14.471766",
     "exception": false,
     "start_time": "2024-09-18T22:53:14.373898",
     "status": "completed"
    },
    "tags": []
   },
   "outputs": [],
   "source": [
    "submission.to_csv(\"submission_NN.csv\", index=False)"
   ]
  },
  {
   "cell_type": "code",
   "execution_count": null,
   "id": "a8af3594",
   "metadata": {
    "papermill": {
     "duration": 0.018989,
     "end_time": "2024-09-18T22:53:14.510147",
     "exception": false,
     "start_time": "2024-09-18T22:53:14.491158",
     "status": "completed"
    },
    "tags": []
   },
   "outputs": [],
   "source": []
  }
 ],
 "metadata": {
  "kaggle": {
   "accelerator": "gpu",
   "dataSources": [
    {
     "databundleVersionId": 9469103,
     "sourceId": 83880,
     "sourceType": "competition"
    }
   ],
   "dockerImageVersionId": 30746,
   "isGpuEnabled": true,
   "isInternetEnabled": true,
   "language": "python",
   "sourceType": "notebook"
  },
  "kernelspec": {
   "display_name": "Python 3",
   "language": "python",
   "name": "python3"
  },
  "language_info": {
   "codemirror_mode": {
    "name": "ipython",
    "version": 3
   },
   "file_extension": ".py",
   "mimetype": "text/x-python",
   "name": "python",
   "nbconvert_exporter": "python",
   "pygments_lexer": "ipython3",
   "version": "3.10.13"
  },
  "papermill": {
   "default_parameters": {},
   "duration": 2449.331631,
   "end_time": "2024-09-18T22:53:14.952561",
   "environment_variables": {},
   "exception": null,
   "input_path": "__notebook__.ipynb",
   "output_path": "__notebook__.ipynb",
   "parameters": {},
   "start_time": "2024-09-18T22:12:25.620930",
   "version": "2.4.0"
  },
  "toc": {
   "base_numbering": 1,
   "nav_menu": {},
   "number_sections": true,
   "sideBar": true,
   "skip_h1_title": false,
   "title_cell": "Table of Contents",
   "title_sidebar": "Contents",
   "toc_cell": false,
   "toc_position": {},
   "toc_section_display": true,
   "toc_window_display": false
  },
  "varInspector": {
   "cols": {
    "lenName": 16,
    "lenType": 16,
    "lenVar": 40
   },
   "kernels_config": {
    "python": {
     "delete_cmd_postfix": "",
     "delete_cmd_prefix": "del ",
     "library": "var_list.py",
     "varRefreshCmd": "print(var_dic_list())"
    },
    "r": {
     "delete_cmd_postfix": ") ",
     "delete_cmd_prefix": "rm(",
     "library": "var_list.r",
     "varRefreshCmd": "cat(var_dic_list()) "
    }
   },
   "types_to_exclude": [
    "module",
    "function",
    "builtin_function_or_method",
    "instance",
    "_Feature"
   ],
   "window_display": false
  }
 },
 "nbformat": 4,
 "nbformat_minor": 5
}
